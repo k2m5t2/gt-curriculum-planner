{
 "cells": [
  {
   "cell_type": "markdown",
   "metadata": {},
   "source": [
    "# **Plan for Development**"
   ]
  },
  {
   "cell_type": "markdown",
   "metadata": {},
   "source": [
    "0. **Start**: Random Idea ✅\n",
    "1. **Product Development**: Intuition, Design Study (Use-Case Analysis), Feature Brainstorm → Rationale and Solidification\n",
    "2. **Preliminary Functionality and Beta Testing**: Graphviz(Python) → Logic, Aesthetics & Project Pitching, D3-Graphviz, Basic Manipulations w/ Vue/React, Deployment (with(out) backend), Feedback Study\n",
    "3. **Release 1.0**: Satisfactory Frontend (Drag&Drop, Completion, Adjustment, Addition), User Experience (**Aesthetics**, Animation, Responsivity, Export), Feature Development (Course Availability, CourseCritique Integration, Hidden Good Course(poll page?)), User Coverage (Initial Curriculums), Backend (Persistence, Rich Curriculum Model (i.e., humanities/socscis), Web Crawling and Database Management), Domain Name, Security(?), Feedback (Opinions / Feature Request Page), Marketing Channels (Poster/Word of Mouth/Reddit/Public Tablet), Miscellaneous (Authors Page)\n",
    "4. **Release 2.0**: Migration to fullblown, open source collaboration setup, hmm what else? 🤔 finish and handoff?"
   ]
  },
  {
   "cell_type": "markdown",
   "metadata": {},
   "source": [
    "Personally (Yunho):\n",
    "> I learned (the hard way & multiple times) that abrupt complexity jumps often lead to troubleshooting hell and thus may be non-ideal. Let's start with `-minimal` branch and isolate/abstract complexity as much as possible. Starting with Python was a good move.\n",
    "- Study Session → JavaScript Best Practices, Efficient Frontend Development (using public templates), TypeScript, SMTP Server (email)\n"
   ]
  },
  {
   "cell_type": "markdown",
   "metadata": {},
   "source": [
    "# **TODO**\n",
    "## **Frontend**\n",
    "- Auto-fit ✅\n",
    "- Disable zoom, pan ✅\n",
    "- Export Jupyter to file-based backend (structure in a way to allow flexible updates) ✅\n",
    "- UI in Figma\n",
    "- Migrate to Vitesse ✅"
   ]
  },
  {
   "cell_type": "markdown",
   "metadata": {},
   "source": [
    "# **Resources**"
   ]
  },
  {
   "cell_type": "markdown",
   "metadata": {},
   "source": [
    "## **D3-Graphviz**"
   ]
  },
  {
   "cell_type": "markdown",
   "metadata": {},
   "source": [
    "- [Codesanbox: D3-Graphviz Examples](https://codesandbox.io/examples/package/d3-graphviz)\n",
    "- [D3-Graphviz GitHub w/ Examples](https://github.com/magjac/d3-graphviz)\n",
    "  - [Issue: ImportError](https://github.com/magjac/d3-graphviz/issues/94)\n",
    "    - [Releases and Changelog](https://github.com/magjac/d3-graphviz/blob/master/CHANGELOG.md#410)\n",
    "    - [WASM & Worker Error #1](https://www.google.com/search?client=safari&rls=en&q=found+3c+21+44+4f+%40%2B0&ie=UTF-8&oe=UTF-8)\n",
    "    - [WASM & Worker Error #2](https://github.com/WebAssembly/spec/issues/1031)\n",
    "    - [WASM & Worker Error #3](https://www.google.com/search?client=safari&rls=en&q=web+server+redirect+filter&ie=UTF-8&oe=UTF-8)\n",
    "    - [WASM & Webworker Basics #1](https://pspdfkit.com/blog/2020/webassembly-in-a-web-worker/)\n",
    "    - [WASM & Webworker Basics #2](https://www.sitepen.com/blog/using-webassembly-with-web-workers)\n",
    "    - [Wasm & Webworker Intermediate (Cloudflare)](https://blog.cloudflare.com/workers-javascript-modules/)\n",
    "  - [Issue: Interactive Visualizations](https://github.com/magjac/d3-graphviz/issues/38)\n",
    "  - [Issue: Dynamic Drawing API](https://github.com/magjac/d3-graphviz/issues/40)\n",
    "    - [Issue: Style drawNode() with Attributer](https://github.com/magjac/d3-graphviz/issues/194)\n",
    "- [Data-Driven-Documents (D3) Basics](https://www.sitepoint.com/vue-d3-data-visualization-intro/)\n",
    "\n",
    "- Interactivity\n",
    "  - [Click Demo w/ source code](https://bl.ocks.org/magjac/28a70231e2c9dddb84b3b20f450a215f)\n",
    "  - [Incrementing a D3 attribute](https://stackoverflow.com/questions/40393921/best-way-to-increment-d3-attribute)\n",
    "  - [Input Debouncing](https://www.freecodecamp.org/news/javascript-debounce-example/#:~:text=In%20JavaScript%2C%20a%20debounce%20function%20makes%20sure%20that,a%20debounce%20function%20in%20JavaScript.%20What%20is%20debounce%3F)\n",
    "\n",
    "- Miscellaneous\n",
    "  - [Simplifying script load](https://stackoverflow.com/questions/45047126/how-to-add-external-js-scripts-to-vuejs-components)\n",
    "  - [Set the rank of nodes (subgraph) using just networkx](https://stackoverflow.com/questions/47653306/set-the-rank-of-nodes-subgraph-using-just-networkx)\n",
    "  - [Pygraphviz / networkx set node level or layer](https://stackoverflow.com/questions/22207802/pygraphviz-networkx-set-node-level-or-layer)\n",
    "  - [Right / Wrong way to set fonts in d3-graphviz](https://github.com/magjac/d3-graphviz/issues/150)\n",
    "\n",
    "- Laying Out\n",
    "  - [Unconnected Nodes](https://stackoverflow.com/questions/52726926/how-can-i-make-dot-graphviz-layout-unconnected-nodes-vertically-instead-of-hor)\n",
    "  - [Distribute nodes on the same rank of a wide graph to different lines](https://stackoverflow.com/questions/11134946/distribute-nodes-on-the-same-rank-of-a-wide-graph-to-different-lines)"
   ]
  },
  {
   "cell_type": "markdown",
   "metadata": {},
   "source": [
    "## **Frontend**"
   ]
  },
  {
   "cell_type": "markdown",
   "metadata": {},
   "source": [
    "- [**Vitesse Guide**](https://www.youtube.com/watch?v=rMD3A5BgDxE)\n",
    "- [Vue Ecommerce Template (Google Search)](https://www.google.com/search?q=vue+ecommerce+template&client=safari&rls=en&sxsrf=APq-WBsTaKXeMh7ieNO8guHdlRFxeylYAw%3A1647559334035&ei=psIzYunpAYOd_QavrLL4DA&oq=vue+ecommerca+&gs_lcp=Cgdnd3Mtd2l6EAMYADIECAAQDTIECAAQDTIECAAQDTIECAAQDTIECAAQDTIECAAQDTIECAAQDTIGCAAQFhAeMgYIABAWEB4yBggAEBYQHjoHCAAQRxCwAzoECCMQJzoECAAQQzoFCAAQkQI6CAguELEDEIMBOhAILhCABBCHAhDHARCvARAUOg4ILhCABBCxAxDHARDRAzoHCAAQsQMQQzoKCAAQsQMQgwEQQzoNCC4QsQMQxwEQowIQQzoKCC4QxwEQrwEQQzoKCAAQgAQQhwIQFDoFCAAQgAQ6CwguEIAEEMcBEK8BOgQIABAKOgcIABDJAxAKOgYIABANEB5KBAhBGABKBAhGGABQzglY-RZg-SVoA3ABeACAAa8BiAGgCZIBBDExLjOYAQCgAQHIAQjAAQE&sclient=gws-wiz)\n",
    "- [Some Important JavaScript Concept on Waiting Until API Call Finishes](https://stackoverflow.com/questions/46023920/cannot-find-a-way-to-wait-for-vue-js-async-function)\n",
    "  - thought of a physical analogy (making a child wait until mom's phone call finishes). fun.\n",
    "- [Vue 3 global variables](https://stackoverflow.com/questions/63100658/add-global-variable-in-vue-js-3)\n",
    "- [Axios Tutorial](https://www.youtube.com/watch?v=yNrqlxn0nc0)\n",
    "- [D3 Drag API Tutorial](https://observablehq.com/@d3/circle-dragging-i)\n",
    "- [D3 Drag API Tutorial #2](https://www.tutorialspoint.com/d3js/d3js_dragging_api.htm)\n",
    "- [D3 Drag API Tutorial #3](https://octoperf.com/blog/2018/04/18/d3-js-drag-and-drop-tutorial/#the-d3-drag-library)\n",
    "- [TroisJS Docs](https://troisjs.github.io/)\n",
    "  - [Three.js as background](https://stackoverflow.com/questions/9901696/three-js-as-background-of-website-possible/38463360#38463360)\n",
    "- [Stop (ab)using z-index](https://www.codegram.com/blog/stop-ab-using-z-index/)"
   ]
  },
  {
   "cell_type": "markdown",
   "metadata": {},
   "source": [
    "### **User Experience**\n",
    "- [2022 User Interface Trends](https://www.youtube.com/watch?v=5eVu__pc6gI)\n",
    "- [Good Typefaces](https://www.typewolf.com/top-10-monospaced-fonts)\n",
    "- [Two Color Combinations](https://2colors.colorion.co/)\n",
    "- [Clean UI Example: lit.dev](https://lit.dev)"
   ]
  },
  {
   "cell_type": "markdown",
   "metadata": {},
   "source": [
    "## **Backend**\n"
   ]
  },
  {
   "cell_type": "markdown",
   "metadata": {},
   "source": [
    "- [FastAPI Documentation](https://fastapi.tiangolo.com/tutorial/?fbclid=IwAR2RsOCQo7I4-cCGFTQi6zG3iR4oSMhkXTOpO6EDAXfNG0HAByHbrlYW_JQ)\n",
    "- [Vue+FastAPI Tutorial](https://6chaoran.github.io/data-story/visualization/data-engineering/fastapi-vue-app/)\n",
    "- [Vue+FastAPI Tutorial2](https://testdriven.io/blog/developing-a-single-page-app-with-fastapi-and-vuejs/)"
   ]
  },
  {
   "cell_type": "markdown",
   "metadata": {},
   "source": [
    "## **NPM**"
   ]
  },
  {
   "cell_type": "markdown",
   "metadata": {},
   "source": [
    "- [(fucking) npm update for dependency version control](https://www.google.com/search?client=safari&rls=en&q=npm+does+not+install+the+latest+version&ie=UTF-8&oe=UTF-8)\n",
    "- [what (the fuck) does `--save` flag do](https://stackoverflow.com/questions/19578796/what-is-the-save-option-for-npm-install)\n"
   ]
  },
  {
   "cell_type": "markdown",
   "metadata": {},
   "source": []
  }
 ],
 "metadata": {
  "language_info": {
   "name": "python"
  },
  "orig_nbformat": 4
 },
 "nbformat": 4,
 "nbformat_minor": 2
}
