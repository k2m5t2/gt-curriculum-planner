{
 "cells": [
  {
   "cell_type": "markdown",
   "metadata": {},
   "source": [
    "# **Plan for Development**"
   ]
  },
  {
   "cell_type": "markdown",
   "metadata": {},
   "source": [
    "0. **Start**: Random Idea ✅\n",
    "1. **Product Development**: Intuition, Design Study (Use-Case Analysis), Feature Brainstorm → Rationale and Solidification\n",
    "2. **Preliminary Functionality and Beta Testing**: Graphviz(Python) → Logic, Aesthetics & Project Pitching, D3-Graphviz, Basic Manipulations w/ Vue/React, Deployment (with(out) backend), Feedback Study\n",
    "3. **Release 1.0**: Satisfactory Frontend (Drag&Drop, Completion, Adjustment, Addition), User Experience (**Aesthetics**, Animation, Responsivity, Export), Feature Development (Course Availability, CourseCritique Integration, Hidden Good Course(poll page?)), User Coverage (Initial Curriculums), Backend (Persistence, Rich Curriculum Model (i.e., humanities/socscis), Web Crawling and Database Management), Domain Name, Security(?), Feedback (Opinions / Feature Request Page), Marketing Channels (Poster/Word of Mouth/Reddit/Public Tablet), Miscellaneous (Authors Page)\n",
    "4. **Release 2.0**: Migration to fullblown, open source collaboration setup, hmm what else? 🤔 finish and handoff?"
   ]
  },
  {
   "cell_type": "markdown",
   "metadata": {},
   "source": [
    "Personally (Yunho):\n",
    "> I learned (the hard way & multiple times) that abrupt complexity jumps often lead to troubleshooting hell and thus may be non-ideal. Let's start with `-minimal` branch and isolate/abstract complexity as much as possible. Starting with Python was a good move. I may have given up otherwise.\n",
    "- Study Session → JavaScript Best Practices, Efficient Frontend Development (using public templates), TypeScript, SMTP Server (email)\n"
   ]
  },
  {
   "cell_type": "markdown",
   "metadata": {},
   "source": [
    "# **Resources**"
   ]
  },
  {
   "cell_type": "markdown",
   "metadata": {},
   "source": [
    "## **D3-Graphviz**"
   ]
  },
  {
   "cell_type": "markdown",
   "metadata": {},
   "source": [
    "- [Codesanbox: D3-Graphviz Examples](https://codesandbox.io/examples/package/d3-graphviz)\n",
    "- [D3-Graphviz GitHub w/ Examples](https://github.com/magjac/d3-graphviz)\n",
    "  - [Issue: ImportError](https://github.com/magjac/d3-graphviz/issues/94)\n",
    "    - [Releases and Changelog](https://github.com/magjac/d3-graphviz/blob/master/CHANGELOG.md#410)\n",
    "    - [WASM & Worker Error #1](https://www.google.com/search?client=safari&rls=en&q=found+3c+21+44+4f+%40%2B0&ie=UTF-8&oe=UTF-8)\n",
    "    - [WASM & Worker Error #2](https://github.com/WebAssembly/spec/issues/1031)\n",
    "    - [WASM & Worker Error #3](https://www.google.com/search?client=safari&rls=en&q=web+server+redirect+filter&ie=UTF-8&oe=UTF-8)\n",
    "    - [WASM & Webworker Basics #1](https://pspdfkit.com/blog/2020/webassembly-in-a-web-worker/)\n",
    "    - [WASM & Webworker Basics #2](https://www.sitepen.com/blog/using-webassembly-with-web-workers)\n",
    "    - [Wasm & Webworker Intermediate (Cloudflare)](https://blog.cloudflare.com/workers-javascript-modules/)\n",
    "  - [Issue: Interactive Visualizations](https://github.com/magjac/d3-graphviz/issues/38)\n",
    "  - [Issue: Dynamic Drawing API](https://github.com/magjac/d3-graphviz/issues/40)\n",
    "    - [Issue: Style drawNode() with Attributer](https://github.com/magjac/d3-graphviz/issues/194)\n",
    "- [Data-Driven-Documents (D3) Basics](https://www.sitepoint.com/vue-d3-data-visualization-intro/)"
   ]
  },
  {
   "cell_type": "markdown",
   "metadata": {},
   "source": [
    "## **Frontend**"
   ]
  },
  {
   "cell_type": "markdown",
   "metadata": {},
   "source": [
    "- [Vue Ecommerce Template (Google Search)](https://www.google.com/search?q=vue+ecommerce+template&client=safari&rls=en&sxsrf=APq-WBsTaKXeMh7ieNO8guHdlRFxeylYAw%3A1647559334035&ei=psIzYunpAYOd_QavrLL4DA&oq=vue+ecommerca+&gs_lcp=Cgdnd3Mtd2l6EAMYADIECAAQDTIECAAQDTIECAAQDTIECAAQDTIECAAQDTIECAAQDTIECAAQDTIGCAAQFhAeMgYIABAWEB4yBggAEBYQHjoHCAAQRxCwAzoECCMQJzoECAAQQzoFCAAQkQI6CAguELEDEIMBOhAILhCABBCHAhDHARCvARAUOg4ILhCABBCxAxDHARDRAzoHCAAQsQMQQzoKCAAQsQMQgwEQQzoNCC4QsQMQxwEQowIQQzoKCC4QxwEQrwEQQzoKCAAQgAQQhwIQFDoFCAAQgAQ6CwguEIAEEMcBEK8BOgQIABAKOgcIABDJAxAKOgYIABANEB5KBAhBGABKBAhGGABQzglY-RZg-SVoA3ABeACAAa8BiAGgCZIBBDExLjOYAQCgAQHIAQjAAQE&sclient=gws-wiz)\n",
    "- []"
   ]
  },
  {
   "cell_type": "markdown",
   "metadata": {},
   "source": [
    "## **Backend**\n"
   ]
  },
  {
   "cell_type": "markdown",
   "metadata": {},
   "source": [
    "- [FastAPI Documentation](https://fastapi.tiangolo.com/tutorial/?fbclid=IwAR2RsOCQo7I4-cCGFTQi6zG3iR4oSMhkXTOpO6EDAXfNG0HAByHbrlYW_JQ)\n",
    "- [Vue+FastAPI Tutorial](https://6chaoran.github.io/data-story/visualization/data-engineering/fastapi-vue-app/)\n",
    "- [Vue+FastAPI Tutorial2](https://testdriven.io/blog/developing-a-single-page-app-with-fastapi-and-vuejs/)"
   ]
  },
  {
   "cell_type": "markdown",
   "metadata": {},
   "source": [
    "## **NPM**"
   ]
  },
  {
   "cell_type": "markdown",
   "metadata": {},
   "source": [
    "- [(fucking) npm update for dependency version control](https://www.google.com/search?client=safari&rls=en&q=npm+does+not+install+the+latest+version&ie=UTF-8&oe=UTF-8)\n",
    "- [what (the fuck) does `--save` flag do](https://stackoverflow.com/questions/19578796/what-is-the-save-option-for-npm-install)\n"
   ]
  },
  {
   "cell_type": "markdown",
   "metadata": {},
   "source": []
  }
 ],
 "metadata": {
  "language_info": {
   "name": "python"
  },
  "orig_nbformat": 4
 },
 "nbformat": 4,
 "nbformat_minor": 2
}
