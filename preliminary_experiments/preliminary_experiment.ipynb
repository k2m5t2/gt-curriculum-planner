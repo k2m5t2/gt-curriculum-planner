{
 "cells": [
  {
   "cell_type": "markdown",
   "metadata": {},
   "source": [
    "# Curriculum Data"
   ]
  },
  {
   "cell_type": "code",
   "execution_count": 1,
   "metadata": {},
   "outputs": [],
   "source": [
    "import pandas as pd\n",
    "import numpy as np\n",
    "\n",
    "filename = 'me.csv'\n",
    "\n",
    "df = pd.read_csv(filename)"
   ]
  },
  {
   "cell_type": "markdown",
   "metadata": {},
   "source": [
    "### Stage 1. Pandas DataFrame"
   ]
  },
  {
   "cell_type": "code",
   "execution_count": 2,
   "metadata": {},
   "outputs": [
    {
     "name": "stdout",
     "output_type": "stream",
     "text": [
      "                              explicit pre-requisites          course name\n",
      "0                                                 NaN            CHEM 1310\n",
      "1                                                 NaN            MATH 1551\n",
      "2                                                 NaN            MATH 1553\n",
      "3                                                 NaN          Legislative\n",
      "4                                                 NaN            ENGL 1101\n",
      "5                                                 NaN             Wellness\n",
      "6                               MATH 1551, MATH 1552*            PHYS 2211\n",
      "7                                           MATH 1551            MATH 1552\n",
      "8                                                 NaN              CS 1371\n",
      "9                                                 NaN              ME 1670\n",
      "10                                          ENGL 1101            ENGL 1102\n",
      "11                                          PHYS 2211            PHYS 2212\n",
      "12                               MATH 1552, MATH 1553            MATH 2551\n",
      "13                                  ME 1670, COE 2001              ME 2110\n",
      "14                                          CHEM 1310             MSE 2001\n",
      "15                               MATH 1552, PHYS 2211             COE 2001\n",
      "16                                          PHYS 2212             ECE 3710\n",
      "17                               MATH 1552, MATH 1553            MATH 2552\n",
      "18          MATH 1552, MATH 1553, MATH 2552*, CS 1371              ME 2016\n",
      "19                               COE 2001, MATH 1553*              ME 2202\n",
      "20                                                NaN       Social Science\n",
      "21                                           ECE 3710             ECE 3741\n",
      "22                               COE 2001, MATH 2552*             COE 3001\n",
      "23                               PHYS 2211, MATH 2552              ME 3322\n",
      "24            ME 2202, MATH 2551, MATH 2552, ME 3322*              ME 3340\n",
      "25                                                NaN            ECON 2001\n",
      "26                                                NaN           Humanities\n",
      "27              ME 2202, ME 2016, MATH 2552, ECE 3710              ME 3017\n",
      "28                        ME 3322, ME 3340, MATH 2552              ME 3345\n",
      "29  COE 3001, ME 3340, ME 3017*, ME 3345*, MATH 3670*              ME 3057\n",
      "30                                          ECON 2001            ISYE 3025\n",
      "31                                          MATH 2551            MATH 3670\n",
      "32                                                NaN       Social Science\n",
      "33                                   ME 2110, ME 3345              ME 3180\n",
      "34                        MSE 2001, ME 2110, COE 3001              ME 3210\n",
      "35               ME 3057, ME 3345, ME 3017, MATH 3670              ME 4056\n",
      "36                                                NaN        Free Elective\n",
      "37                                                NaN        Free Elective\n",
      "38  ME 3210, ME 3180, ME 3345, ME 3017, MATH 3670,...              ME 4182\n",
      "39                                                NaN          ME Elective\n",
      "40                                                NaN  Humanities Elective\n",
      "41                                                NaN        Free Elective\n",
      "42                                                NaN        Free Elective\n",
      "43                                                NaN        Free Elective\n",
      "44                                                NaN       Ethics Overlay\n"
     ]
    }
   ],
   "source": [
    "print(df)"
   ]
  },
  {
   "cell_type": "code",
   "execution_count": 3,
   "metadata": {},
   "outputs": [
    {
     "data": {
      "text/plain": [
       "(45, 2)"
      ]
     },
     "execution_count": 3,
     "metadata": {},
     "output_type": "execute_result"
    }
   ],
   "source": [
    "df.shape"
   ]
  },
  {
   "cell_type": "markdown",
   "metadata": {},
   "source": [
    "### Stage 2. Dictionary\n",
    "Note: Pandas may actually be better. But I don't know how to use it properly."
   ]
  },
  {
   "cell_type": "code",
   "execution_count": 4,
   "metadata": {},
   "outputs": [
    {
     "name": "stdout",
     "output_type": "stream",
     "text": [
      "['MATH 1552', 'MATH 1553', 'MATH 2552*', 'CS 1371']\n"
     ]
    }
   ],
   "source": [
    "# example: regex-based string -> list conversion\n",
    "import re\n",
    "\n",
    "text = 'MATH 1552, MATH 1553, MATH 2552*, CS 1371'\n",
    "chunks = re.split('\\, ', text)\n",
    "print(chunks)"
   ]
  },
  {
   "cell_type": "markdown",
   "metadata": {},
   "source": [
    "Use `pd.isna(desired)` to check for NaN. (Why isn't this more trivial?)"
   ]
  },
  {
   "cell_type": "code",
   "execution_count": 5,
   "metadata": {},
   "outputs": [],
   "source": [
    "curriculum = {}"
   ]
  },
  {
   "cell_type": "code",
   "execution_count": 6,
   "metadata": {},
   "outputs": [],
   "source": [
    "# immediate explicit pre-requisites\n",
    "for i in range(df.shape[0]):\n",
    "    if pd.isna(df.iloc[i,0]): # NaN\n",
    "        curriculum[df.iloc[i,1]] = []\n",
    "    else: # pre-reqs exist. put them into list\n",
    "        curriculum[df.iloc[i,1]] = re.split('\\, ', df.iloc[i,0]) "
   ]
  },
  {
   "cell_type": "code",
   "execution_count": 7,
   "metadata": {},
   "outputs": [
    {
     "data": {
      "text/plain": [
       "{'CHEM 1310': [],\n",
       " 'MATH 1551': [],\n",
       " 'MATH 1553': [],\n",
       " 'Legislative': [],\n",
       " 'ENGL 1101': [],\n",
       " 'Wellness': [],\n",
       " 'PHYS 2211': ['MATH 1551', 'MATH 1552*'],\n",
       " 'MATH 1552': ['MATH 1551'],\n",
       " 'CS 1371': [],\n",
       " 'ME 1670': [],\n",
       " 'ENGL 1102': ['ENGL 1101'],\n",
       " 'PHYS 2212': ['PHYS 2211'],\n",
       " 'MATH 2551': ['MATH 1552', 'MATH 1553'],\n",
       " 'ME 2110': ['ME 1670', 'COE 2001'],\n",
       " 'MSE 2001': ['CHEM 1310'],\n",
       " 'COE 2001': ['MATH 1552', 'PHYS 2211'],\n",
       " 'ECE 3710': ['PHYS 2212'],\n",
       " 'MATH 2552': ['MATH 1552', 'MATH 1553'],\n",
       " 'ME 2016': ['MATH 1552', 'MATH 1553', 'MATH 2552*', 'CS 1371'],\n",
       " 'ME 2202': ['COE 2001', 'MATH 1553*'],\n",
       " 'Social Science': [],\n",
       " 'ECE 3741': ['ECE 3710'],\n",
       " 'COE 3001': ['COE 2001', 'MATH 2552*'],\n",
       " 'ME 3322': ['PHYS 2211', 'MATH 2552'],\n",
       " 'ME 3340': ['ME 2202', 'MATH 2551', 'MATH 2552', 'ME 3322*'],\n",
       " 'ECON 2001': [],\n",
       " 'Humanities': [],\n",
       " 'ME 3017': ['ME 2202', 'ME 2016', 'MATH 2552', 'ECE 3710'],\n",
       " 'ME 3345': ['ME 3322', 'ME 3340', 'MATH 2552'],\n",
       " 'ME 3057': ['COE 3001', 'ME 3340', 'ME 3017*', 'ME 3345*', 'MATH 3670*'],\n",
       " 'ISYE 3025': ['ECON 2001'],\n",
       " 'MATH 3670': ['MATH 2551'],\n",
       " 'ME 3180': ['ME 2110', 'ME 3345'],\n",
       " 'ME 3210': ['MSE 2001', 'ME 2110', 'COE 3001'],\n",
       " 'ME 4056': ['ME 3057', 'ME 3345', 'ME 3017', 'MATH 3670'],\n",
       " 'Free Elective': [],\n",
       " 'ME 4182': ['ME 3210',\n",
       "  'ME 3180',\n",
       "  'ME 3345',\n",
       "  'ME 3017',\n",
       "  'MATH 3670',\n",
       "  'COE 3001',\n",
       "  'ME 2110'],\n",
       " 'ME Elective': [],\n",
       " 'Humanities Elective': [],\n",
       " 'Ethics Overlay': []}"
      ]
     },
     "execution_count": 7,
     "metadata": {},
     "output_type": "execute_result"
    }
   ],
   "source": [
    "curriculum"
   ]
  },
  {
   "cell_type": "markdown",
   "metadata": {},
   "source": [
    "## Stage 3. Class\n",
    "\n",
    "-> Spectacular failure"
   ]
  },
  {
   "cell_type": "code",
   "execution_count": 8,
   "metadata": {},
   "outputs": [],
   "source": [
    "class Cour:\n",
    "    def __init__(self, name, prereqs=[], default_year=None, buildsto=[]):\n",
    "        self.name = name\n",
    "        self.prereqs = prereqs\n",
    "        self.year = default_year if default_year else self.infer_year()\n",
    "        self.buildsto = buildsto # needs to be supplied/set by curr class\n",
    "\n",
    "    def infer_year(self):\n",
    "        searched = re.search(\"\\ [0-9]\", self.name)\n",
    "        if searched: \n",
    "            return int(searched.group()[1]) # the second char of search result"
   ]
  },
  {
   "cell_type": "markdown",
   "metadata": {},
   "source": [
    "[Issue #19: Iterate through nodes and edges?](https://github.com/xflr6/graphviz/issues/19)  \n",
    "Basically we are to implement advanced functionality inside our own data types and use graphviz only as a lightweight *creation* tool.  \n",
    "Therefore, let's make curriculum_list into a class, with attributes contained within itself.\n",
    "스케치 하고 짜면 빠르게 할듯~~"
   ]
  },
  {
   "cell_type": "code",
   "execution_count": 9,
   "metadata": {},
   "outputs": [],
   "source": [
    "ME_1670 = Cour('ME 1670')"
   ]
  },
  {
   "cell_type": "code",
   "execution_count": 10,
   "metadata": {},
   "outputs": [],
   "source": [
    "ME_2110 = Cour('ME 2110', ['ME 1670'])"
   ]
  },
  {
   "cell_type": "code",
   "execution_count": 11,
   "metadata": {},
   "outputs": [],
   "source": [
    "ME_3210 = Cour('ME 3210', ['ME 2110'])"
   ]
  },
  {
   "cell_type": "code",
   "execution_count": 12,
   "metadata": {},
   "outputs": [],
   "source": [
    "class Curr:\n",
    "    def __init__(self, cours): \n",
    "        self.cours = cours\n",
    "\n",
    "    def fill_buildsto(self):\n",
    "        for cour in self.cours:\n",
    "            for cour_ in self.cours:\n",
    "                if not cour_.prereqs: return\n",
    "                for prereq in cour_.prereqs: # prereq is a string\n",
    "                    if prereq == cour.name:\n",
    "                        cour.buildsto.append(prereq)\n",
    "\n",
    "    def grad_sem_propagation(self): pass\n",
    "        "
   ]
  },
  {
   "cell_type": "code",
   "execution_count": 13,
   "metadata": {},
   "outputs": [],
   "source": [
    "ME = Curr([ME_1670, ME_2110, ME_3210])\n",
    "ME.fill_buildsto()"
   ]
  },
  {
   "cell_type": "code",
   "execution_count": 14,
   "metadata": {},
   "outputs": [
    {
     "name": "stdout",
     "output_type": "stream",
     "text": [
      "[]\n"
     ]
    }
   ],
   "source": [
    "print(ME.cours[0].buildsto)"
   ]
  },
  {
   "cell_type": "markdown",
   "metadata": {},
   "source": [
    "## Stage 3.1: Class ain't it\n",
    "\n",
    "> Let's just represent stuff in dict, write **external** functions (there are 40-some courses; why make a class for each when in fact, this is an array — same behavior for lots of instances?)  Then pass immediate, secondary, capstone onto frontend. Also definitely can have them computed in client-side.\n",
    "\n",
    "Reasons\n",
    "1. Dict is 1-to-1 compatible with json — the de-facto data transmission format for the web.\n",
    "2. Unsure if object-oriented approach is best for this problem.\n",
    "- Most likely there's an abundance of knowledge precisely around these problems (network; dependency; graph). \n",
    "- Right now I don't know anything; I'm just brute-forcing my way through. This is pretty stupid. Let's do some fucking research"
   ]
  },
  {
   "cell_type": "markdown",
   "metadata": {},
   "source": [
    "## Stage 4. Treeshake\n",
    "\n",
    "### Necessary?\n",
    "**→ YES** (see MATH 2552 and ME 3340). Also a good practice!  \n",
    "\n",
    "### Pseudocode\n",
    "- for each pre-req in course:\n",
    "  - check and see if other pre-reqs already require it\n",
    "  - maxdepth 1 seems fine. actually don't know how I would implement recursion.\n",
    "- if empty, return\n",
    "\n",
    "> This pseudocode is **shit**. wasted me two hours. \n",
    "\n",
    "### New Pseudocode\n",
    "- each course has a set of explicit (or immediate) pre-reqs. don't do anything with this yet\n",
    "- each explicit pre-req has another set of explicit pre-reqs (we call this implicit pre-req)\n",
    "- iterate through all explicit (and through all implicit) to add every occurring implicit to a set \n",
    "- now see if any explicit creates a redundancy by repeating any implicit.\n",
    "  - if so, delete that explicit\n",
    "\n",
    "Some Notes\n",
    "- Note that pre-req redundancy may happen where depth differences are >1. \n",
    "  - I'm making an assumption that most redundancies happen in depth_diff=1, because it's expensive to compute further. \n",
    "    - Counterargument: Even though Python for loop is slow, size is king. These arrays are 50-long as most; compute time may be trivial.\n",
    "      - nested three times though. 50^3 = 125,000\n",
    "- set ~= hashable list; hashable ←→ faster, unique vals."
   ]
  },
  {
   "cell_type": "code",
   "execution_count": 33,
   "metadata": {},
   "outputs": [],
   "source": [
    "verbose = False # DEBUG\n",
    "\n",
    "def treeshake(curriculum):\n",
    "    curr = curriculum.copy()\n",
    "    \n",
    "    # iterate over each course in curriculum\n",
    "    for course, pre_reqs in curriculum.items():\n",
    "        if verbose: print('new case:', course) # DEBUG\n",
    "        \n",
    "        # introductory course\n",
    "        if not pre_reqs: continue\n",
    "\n",
    "        # set of implicit prerequisites\n",
    "        seen = set()\n",
    "\n",
    "        # fetch implicit prerequisite (depth 1)\n",
    "        for (idx, explicit) in enumerate(pre_reqs):\n",
    "            # handle co-req \n",
    "            exp = explicit[:-1] if explicit[-1] == '*' else explicit\n",
    "\n",
    "            # introductory explicit\n",
    "            if not curr[exp]: continue \n",
    "            # important to keep this line. removing this breaks the whole thing\n",
    "\n",
    "            # \n",
    "            for (jdx, implicit) in enumerate(curr[exp]):\n",
    "                if idx == jdx: continue # unsure if necessary / helpful. TEST BOTH WAYS.\n",
    "                # if candidate not in seen:  # Note: doesn't seem necessary because set is unique anyway.\n",
    "                seen.add(implicit)\n",
    "                    # curriculum[course].pop(idx)\n",
    "        \n",
    "        if verbose: print('implicit:', seen)\n",
    "        # if an implicit prerequisite is made explicit (redundancy), remove the explicit.\n",
    "        for (idx, target) in enumerate(pre_reqs):\n",
    "            if target in seen: \n",
    "                curr[course].pop(idx)\n",
    "                if verbose: print('DELETED:', target)\n",
    "\n",
    "    return curr"
   ]
  },
  {
   "cell_type": "code",
   "execution_count": 16,
   "metadata": {},
   "outputs": [],
   "source": [
    "curr = treeshake(curriculum)"
   ]
  },
  {
   "cell_type": "code",
   "execution_count": 17,
   "metadata": {},
   "outputs": [],
   "source": [
    "# def find_occurrence(target, area):\n",
    "#     for body in area:\n",
    "#         if target == area: "
   ]
  },
  {
   "cell_type": "code",
   "execution_count": 18,
   "metadata": {},
   "outputs": [
    {
     "data": {
      "text/plain": [
       "{'CHEM 1310': [],\n",
       " 'MATH 1551': [],\n",
       " 'MATH 1553': [],\n",
       " 'Legislative': [],\n",
       " 'ENGL 1101': [],\n",
       " 'Wellness': [],\n",
       " 'PHYS 2211': ['MATH 1552*'],\n",
       " 'MATH 1552': ['MATH 1551'],\n",
       " 'CS 1371': [],\n",
       " 'ME 1670': [],\n",
       " 'ENGL 1102': ['ENGL 1101'],\n",
       " 'PHYS 2212': ['PHYS 2211'],\n",
       " 'MATH 2551': ['MATH 1552', 'MATH 1553'],\n",
       " 'ME 2110': ['ME 1670', 'COE 2001'],\n",
       " 'MSE 2001': ['CHEM 1310'],\n",
       " 'COE 2001': ['MATH 1552', 'PHYS 2211'],\n",
       " 'ECE 3710': ['PHYS 2212'],\n",
       " 'MATH 2552': ['MATH 1552', 'MATH 1553'],\n",
       " 'ME 2016': ['MATH 1553', 'MATH 2552*', 'CS 1371'],\n",
       " 'ME 2202': ['COE 2001', 'MATH 1553*'],\n",
       " 'Social Science': [],\n",
       " 'ECE 3741': ['ECE 3710'],\n",
       " 'COE 3001': ['COE 2001', 'MATH 2552*'],\n",
       " 'ME 3322': ['PHYS 2211', 'MATH 2552'],\n",
       " 'ME 3340': ['ME 2202', 'MATH 2551', 'ME 3322*'],\n",
       " 'ECON 2001': [],\n",
       " 'Humanities': [],\n",
       " 'ME 3017': ['ME 2202', 'ME 2016', 'MATH 2552', 'ECE 3710'],\n",
       " 'ME 3345': ['ME 3322', 'ME 3340'],\n",
       " 'ME 3057': ['COE 3001', 'ME 3017*', 'ME 3345*', 'MATH 3670*'],\n",
       " 'ISYE 3025': ['ECON 2001'],\n",
       " 'MATH 3670': ['MATH 2551'],\n",
       " 'ME 3180': ['ME 2110', 'ME 3345'],\n",
       " 'ME 3210': ['MSE 2001', 'ME 2110', 'COE 3001'],\n",
       " 'ME 4056': ['ME 3057', 'ME 3345', 'ME 3017', 'MATH 3670'],\n",
       " 'Free Elective': [],\n",
       " 'ME 4182': ['ME 3210', 'ME 3180', 'ME 3017', 'MATH 3670', 'ME 2110'],\n",
       " 'ME Elective': [],\n",
       " 'Humanities Elective': [],\n",
       " 'Ethics Overlay': []}"
      ]
     },
     "execution_count": 18,
     "metadata": {},
     "output_type": "execute_result"
    }
   ],
   "source": [
    "curr"
   ]
  },
  {
   "cell_type": "code",
   "execution_count": 19,
   "metadata": {},
   "outputs": [],
   "source": [
    "# pseudocode to calculate \"grad_sem\"\n",
    "\n",
    "# capstone courses have 1 grad_sem.\n",
    "# having a normal edge directed to capstone adds 1 grad_sem.\n",
    "# co-req doesn't add an edge.\n",
    "# since there are many capstones (and may occur in some 2nd/3rd year courses),\n",
    "# if conflicted, choose the larger of the two."
   ]
  },
  {
   "cell_type": "markdown",
   "metadata": {},
   "source": [
    "# Flowchart Visualization"
   ]
  },
  {
   "cell_type": "markdown",
   "metadata": {},
   "source": [
    "## Graphviz Basics"
   ]
  },
  {
   "cell_type": "code",
   "execution_count": 20,
   "metadata": {},
   "outputs": [],
   "source": [
    "import graphviz"
   ]
  },
  {
   "cell_type": "markdown",
   "metadata": {},
   "source": [
    "### Basic Example"
   ]
  },
  {
   "cell_type": "code",
   "execution_count": 21,
   "metadata": {},
   "outputs": [
    {
     "data": {
      "image/svg+xml": "<?xml version=\"1.0\" encoding=\"UTF-8\" standalone=\"no\"?>\n<!DOCTYPE svg PUBLIC \"-//W3C//DTD SVG 1.1//EN\"\n \"http://www.w3.org/Graphics/SVG/1.1/DTD/svg11.dtd\">\n<!-- Generated by graphviz version 3.0.0 (20220226.1711)\n -->\n<!-- Title: G Pages: 1 -->\n<svg width=\"689pt\" height=\"309pt\"\n viewBox=\"0.00 0.00 688.90 309.12\" xmlns=\"http://www.w3.org/2000/svg\" xmlns:xlink=\"http://www.w3.org/1999/xlink\">\n<g id=\"graph0\" class=\"graph\" transform=\"scale(1 1) rotate(0) translate(4 305.12)\">\n<title>G</title>\n<polygon fill=\"white\" stroke=\"transparent\" points=\"-4,4 -4,-305.12 684.9,-305.12 684.9,4 -4,4\"/>\n<!-- run -->\n<g id=\"node1\" class=\"node\">\n<title>run</title>\n<ellipse fill=\"none\" stroke=\"black\" cx=\"157.01\" cy=\"-174.2\" rx=\"27\" ry=\"18\"/>\n<text text-anchor=\"middle\" x=\"157.01\" y=\"-170.5\" font-family=\"Times,serif\" font-size=\"14.00\">run</text>\n</g>\n<!-- intr -->\n<g id=\"node2\" class=\"node\">\n<title>intr</title>\n<ellipse fill=\"none\" stroke=\"black\" cx=\"27\" cy=\"-152.7\" rx=\"27\" ry=\"18\"/>\n<text text-anchor=\"middle\" x=\"27\" y=\"-149\" font-family=\"Times,serif\" font-size=\"14.00\">intr</text>\n</g>\n<!-- run&#45;&#45;intr -->\n<g id=\"edge1\" class=\"edge\">\n<title>run&#45;&#45;intr</title>\n<path fill=\"none\" stroke=\"black\" d=\"M130.7,-169.85C108.15,-166.12 75.82,-160.77 53.27,-157.04\"/>\n</g>\n<!-- kernel -->\n<g id=\"node4\" class=\"node\">\n<title>kernel</title>\n<ellipse fill=\"none\" stroke=\"black\" cx=\"348.25\" cy=\"-143.4\" rx=\"32.49\" ry=\"18\"/>\n<text text-anchor=\"middle\" x=\"348.25\" y=\"-139.7\" font-family=\"Times,serif\" font-size=\"14.00\">kernel</text>\n</g>\n<!-- run&#45;&#45;kernel -->\n<g id=\"edge4\" class=\"edge\">\n<title>run&#45;&#45;kernel</title>\n<path fill=\"none\" stroke=\"black\" d=\"M183.61,-169.92C218.5,-164.3 279.66,-154.45 316.81,-148.47\"/>\n</g>\n<!-- runbl -->\n<g id=\"node3\" class=\"node\">\n<title>runbl</title>\n<ellipse fill=\"none\" stroke=\"black\" cx=\"39.48\" cy=\"-232.53\" rx=\"29.5\" ry=\"18\"/>\n<text text-anchor=\"middle\" x=\"39.48\" y=\"-228.83\" font-family=\"Times,serif\" font-size=\"14.00\">runbl</text>\n</g>\n<!-- intr&#45;&#45;runbl -->\n<g id=\"edge2\" class=\"edge\">\n<title>intr&#45;&#45;runbl</title>\n<path fill=\"none\" stroke=\"black\" d=\"M29.83,-170.81C31.88,-183.88 34.62,-201.44 36.66,-214.49\"/>\n</g>\n<!-- runbl&#45;&#45;run -->\n<g id=\"edge3\" class=\"edge\">\n<title>runbl&#45;&#45;run</title>\n<path fill=\"none\" stroke=\"black\" d=\"M62.42,-221.14C83.53,-210.67 114.62,-195.24 135.32,-184.96\"/>\n</g>\n<!-- zombie -->\n<g id=\"node5\" class=\"node\">\n<title>zombie</title>\n<ellipse fill=\"none\" stroke=\"black\" cx=\"308.52\" cy=\"-18\" rx=\"37.09\" ry=\"18\"/>\n<text text-anchor=\"middle\" x=\"308.52\" y=\"-14.3\" font-family=\"Times,serif\" font-size=\"14.00\">zombie</text>\n</g>\n<!-- kernel&#45;&#45;zombie -->\n<g id=\"edge5\" class=\"edge\">\n<title>kernel&#45;&#45;zombie</title>\n<path fill=\"none\" stroke=\"black\" d=\"M342.56,-125.44C335.01,-101.6 321.75,-59.76 314.2,-35.93\"/>\n</g>\n<!-- sleep -->\n<g id=\"node6\" class=\"node\">\n<title>sleep</title>\n<ellipse fill=\"none\" stroke=\"black\" cx=\"470.56\" cy=\"-223.2\" rx=\"28.7\" ry=\"18\"/>\n<text text-anchor=\"middle\" x=\"470.56\" y=\"-219.5\" font-family=\"Times,serif\" font-size=\"14.00\">sleep</text>\n</g>\n<!-- kernel&#45;&#45;sleep -->\n<g id=\"edge6\" class=\"edge\">\n<title>kernel&#45;&#45;sleep</title>\n<path fill=\"none\" stroke=\"black\" d=\"M369.56,-157.3C392.28,-172.13 428,-195.43 450.31,-209.99\"/>\n</g>\n<!-- runmem -->\n<g id=\"node7\" class=\"node\">\n<title>runmem</title>\n<ellipse fill=\"none\" stroke=\"black\" cx=\"521.62\" cy=\"-135.21\" rx=\"40.89\" ry=\"18\"/>\n<text text-anchor=\"middle\" x=\"521.62\" y=\"-131.51\" font-family=\"Times,serif\" font-size=\"14.00\">runmem</text>\n</g>\n<!-- kernel&#45;&#45;runmem -->\n<g id=\"edge7\" class=\"edge\">\n<title>kernel&#45;&#45;runmem</title>\n<path fill=\"none\" stroke=\"black\" d=\"M380.86,-141.86C409.21,-140.52 450.4,-138.58 480.91,-137.14\"/>\n</g>\n<!-- sleep&#45;&#45;runmem -->\n<g id=\"edge13\" class=\"edge\">\n<title>sleep&#45;&#45;runmem</title>\n<path fill=\"none\" stroke=\"black\" d=\"M480.41,-206.24C489.33,-190.85 502.43,-168.28 511.45,-152.73\"/>\n</g>\n<!-- swap -->\n<g id=\"node8\" class=\"node\">\n<title>swap</title>\n<ellipse fill=\"none\" stroke=\"black\" cx=\"591.55\" cy=\"-283.12\" rx=\"28.7\" ry=\"18\"/>\n<text text-anchor=\"middle\" x=\"591.55\" y=\"-279.42\" font-family=\"Times,serif\" font-size=\"14.00\">swap</text>\n</g>\n<!-- sleep&#45;&#45;swap -->\n<g id=\"edge8\" class=\"edge\">\n<title>sleep&#45;&#45;swap</title>\n<path fill=\"none\" stroke=\"black\" d=\"M493.32,-234.47C514.95,-245.18 547.3,-261.2 568.89,-271.9\"/>\n</g>\n<!-- runswap -->\n<g id=\"node9\" class=\"node\">\n<title>runswap</title>\n<ellipse fill=\"none\" stroke=\"black\" cx=\"640.6\" cy=\"-182.57\" rx=\"40.09\" ry=\"18\"/>\n<text text-anchor=\"middle\" x=\"640.6\" y=\"-178.87\" font-family=\"Times,serif\" font-size=\"14.00\">runswap</text>\n</g>\n<!-- swap&#45;&#45;runswap -->\n<g id=\"edge9\" class=\"edge\">\n<title>swap&#45;&#45;runswap</title>\n<path fill=\"none\" stroke=\"black\" d=\"M600.09,-265.6C609.04,-247.26 623.02,-218.61 631.99,-200.22\"/>\n</g>\n<!-- runswap&#45;&#45;runmem -->\n<g id=\"edge11\" class=\"edge\">\n<title>runswap&#45;&#45;runmem</title>\n<path fill=\"none\" stroke=\"black\" d=\"M610.27,-170.49C592.51,-163.43 570.14,-154.52 552.31,-147.43\"/>\n</g>\n<!-- new -->\n<g id=\"node10\" class=\"node\">\n<title>new</title>\n<ellipse fill=\"none\" stroke=\"black\" cx=\"647.17\" cy=\"-86.34\" rx=\"27\" ry=\"18\"/>\n<text text-anchor=\"middle\" x=\"647.17\" y=\"-82.64\" font-family=\"Times,serif\" font-size=\"14.00\">new</text>\n</g>\n<!-- runswap&#45;&#45;new -->\n<g id=\"edge10\" class=\"edge\">\n<title>runswap&#45;&#45;new</title>\n<path fill=\"none\" stroke=\"black\" d=\"M641.84,-164.47C643.01,-147.26 644.77,-121.53 645.94,-104.35\"/>\n</g>\n<!-- new&#45;&#45;runmem -->\n<g id=\"edge12\" class=\"edge\">\n<title>new&#45;&#45;runmem</title>\n<path fill=\"none\" stroke=\"black\" d=\"M623.85,-95.41C603.71,-103.26 574.46,-114.64 552.4,-123.23\"/>\n</g>\n</g>\n</svg>\n",
      "text/plain": [
       "<graphviz.graphs.Graph at 0x10caba2e0>"
      ]
     },
     "execution_count": 21,
     "metadata": {},
     "output_type": "execute_result"
    }
   ],
   "source": [
    "# introduction\n",
    "\"\"\"https://graphviz.org/Gallery/undirected/process.html\"\"\"\n",
    "\n",
    "g = graphviz.Graph('G', filename='process.gv', engine='sfdp')\n",
    "\n",
    "g.edge('run', 'intr')\n",
    "g.edge('intr', 'runbl')\n",
    "g.edge('runbl', 'run')\n",
    "g.edge('run', 'kernel')\n",
    "g.edge('kernel', 'zombie')\n",
    "g.edge('kernel', 'sleep')\n",
    "g.edge('kernel', 'runmem')\n",
    "g.edge('sleep', 'swap')\n",
    "g.edge('swap', 'runswap')\n",
    "g.edge('runswap', 'new')\n",
    "g.edge('runswap', 'runmem')\n",
    "g.edge('new', 'runmem')\n",
    "g.edge('sleep', 'runmem')\n",
    "\n",
    "g"
   ]
  },
  {
   "cell_type": "markdown",
   "metadata": {},
   "source": [
    "### Tree Structure"
   ]
  },
  {
   "cell_type": "code",
   "execution_count": 22,
   "metadata": {},
   "outputs": [],
   "source": [
    "# Definition for a binary tree node.\n",
    "class TreeNode(object):\n",
    "    def __init__(self, x):\n",
    "        self.val = x\n",
    "        self.left = None\n",
    "        self.right = None\n",
    "        \n",
    "\n",
    "class Solution(object):\n",
    "    def mergeTrees(self, t1, t2):\n",
    "        \"\"\"\n",
    "        :type t1: TreeNode\n",
    "        :type t2: TreeNode\n",
    "        :rtype: TreeNode\n",
    "        \"\"\"\n",
    "        \n",
    "        if t1 and t2:\n",
    "            # Merge the values from two trees\n",
    "            node = TreeNode(t1.val + t2.val)\n",
    "            \n",
    "            # Merge the left trees using the function recursively\n",
    "            node.left = self.mergeTrees(t1.left, t2.left)\n",
    "            \n",
    "            # Merge the right trees using the function recursively\n",
    "            node.right = self.mergeTrees(t1.right, t2.right)\n",
    "            \n",
    "            return node\n",
    "            \n",
    "        else:\n",
    "            return t1 or t2\n",
    "\n",
    "def visualize_tree(tree):\n",
    "    def add_nodes_edges(tree, dot=None):\n",
    "        # Create Digraph object\n",
    "        if dot is None:\n",
    "            dot = graphviz.Digraph('G', filename='process.gv')\n",
    "            dot.node(name=str(tree), label=str(tree.val))\n",
    "\n",
    "        # Add nodes\n",
    "        if tree.left:\n",
    "            dot.node(name=str(tree.left) ,label=str(tree.left.val))\n",
    "            dot.edge(str(tree), str(tree.left))\n",
    "            dot = add_nodes_edges(tree.left, dot=dot)\n",
    "            \n",
    "        if tree.right:\n",
    "            dot.node(name=str(tree.right) ,label=str(tree.right.val))\n",
    "            dot.edge(str(tree), str(tree.right))\n",
    "            dot = add_nodes_edges(tree.right, dot=dot)\n",
    "\n",
    "        return dot\n",
    "    \n",
    "    # Add nodes recursively and create a list of edges\n",
    "    dot = add_nodes_edges(tree)\n",
    "    \n",
    "    return dot"
   ]
  },
  {
   "cell_type": "code",
   "execution_count": 23,
   "metadata": {},
   "outputs": [],
   "source": [
    "# Example 1\n",
    "\n",
    "# Left tree\n",
    "t1 = TreeNode(1)\n",
    "t1.left = TreeNode(3)\n",
    "t1.left.left = TreeNode(5)\n",
    "t1.right = TreeNode(2)\n",
    "\n",
    "# Right tree\n",
    "t2 = TreeNode(2)\n",
    "t2.left = TreeNode(1)\n",
    "t2.left.right = TreeNode(4)\n",
    "t2.right = TreeNode(3)\n",
    "t2.right.right = TreeNode(7)"
   ]
  },
  {
   "cell_type": "code",
   "execution_count": 24,
   "metadata": {},
   "outputs": [
    {
     "data": {
      "image/svg+xml": "<?xml version=\"1.0\" encoding=\"UTF-8\" standalone=\"no\"?>\n<!DOCTYPE svg PUBLIC \"-//W3C//DTD SVG 1.1//EN\"\n \"http://www.w3.org/Graphics/SVG/1.1/DTD/svg11.dtd\">\n<!-- Generated by graphviz version 3.0.0 (20220226.1711)\n -->\n<!-- Title: G Pages: 1 -->\n<svg width=\"134pt\" height=\"188pt\"\n viewBox=\"0.00 0.00 134.00 188.00\" xmlns=\"http://www.w3.org/2000/svg\" xmlns:xlink=\"http://www.w3.org/1999/xlink\">\n<g id=\"graph0\" class=\"graph\" transform=\"scale(1 1) rotate(0) translate(4 184)\">\n<title>G</title>\n<polygon fill=\"white\" stroke=\"transparent\" points=\"-4,4 -4,-184 130,-184 130,4 -4,4\"/>\n<!-- __main__.TreeNode object at 0x10caaea60 -->\n<g id=\"node1\" class=\"node\">\n<title>__main__.TreeNode object at 0x10caaea60</title>\n<ellipse fill=\"none\" stroke=\"black\" cx=\"63\" cy=\"-162\" rx=\"27\" ry=\"18\"/>\n<text text-anchor=\"middle\" x=\"63\" y=\"-158.3\" font-family=\"Times,serif\" font-size=\"14.00\">1</text>\n</g>\n<!-- __main__.TreeNode object at 0x10caae610 -->\n<g id=\"node2\" class=\"node\">\n<title>__main__.TreeNode object at 0x10caae610</title>\n<ellipse fill=\"none\" stroke=\"black\" cx=\"27\" cy=\"-90\" rx=\"27\" ry=\"18\"/>\n<text text-anchor=\"middle\" x=\"27\" y=\"-86.3\" font-family=\"Times,serif\" font-size=\"14.00\">3</text>\n</g>\n<!-- __main__.TreeNode object at 0x10caaea60&#45;&gt;__main__.TreeNode object at 0x10caae610 -->\n<g id=\"edge1\" class=\"edge\">\n<title>__main__.TreeNode object at 0x10caaea60&#45;&gt;__main__.TreeNode object at 0x10caae610</title>\n<path fill=\"none\" stroke=\"black\" d=\"M54.65,-144.76C50.29,-136.28 44.85,-125.71 39.96,-116.2\"/>\n<polygon fill=\"black\" stroke=\"black\" points=\"42.99,-114.44 35.3,-107.15 36.77,-117.64 42.99,-114.44\"/>\n</g>\n<!-- __main__.TreeNode object at 0x10caaec70 -->\n<g id=\"node4\" class=\"node\">\n<title>__main__.TreeNode object at 0x10caaec70</title>\n<ellipse fill=\"none\" stroke=\"black\" cx=\"99\" cy=\"-90\" rx=\"27\" ry=\"18\"/>\n<text text-anchor=\"middle\" x=\"99\" y=\"-86.3\" font-family=\"Times,serif\" font-size=\"14.00\">2</text>\n</g>\n<!-- __main__.TreeNode object at 0x10caaea60&#45;&gt;__main__.TreeNode object at 0x10caaec70 -->\n<g id=\"edge3\" class=\"edge\">\n<title>__main__.TreeNode object at 0x10caaea60&#45;&gt;__main__.TreeNode object at 0x10caaec70</title>\n<path fill=\"none\" stroke=\"black\" d=\"M71.35,-144.76C75.71,-136.28 81.15,-125.71 86.04,-116.2\"/>\n<polygon fill=\"black\" stroke=\"black\" points=\"89.23,-117.64 90.7,-107.15 83.01,-114.44 89.23,-117.64\"/>\n</g>\n<!-- __main__.TreeNode object at 0x10caaeee0 -->\n<g id=\"node3\" class=\"node\">\n<title>__main__.TreeNode object at 0x10caaeee0</title>\n<ellipse fill=\"none\" stroke=\"black\" cx=\"27\" cy=\"-18\" rx=\"27\" ry=\"18\"/>\n<text text-anchor=\"middle\" x=\"27\" y=\"-14.3\" font-family=\"Times,serif\" font-size=\"14.00\">5</text>\n</g>\n<!-- __main__.TreeNode object at 0x10caae610&#45;&gt;__main__.TreeNode object at 0x10caaeee0 -->\n<g id=\"edge2\" class=\"edge\">\n<title>__main__.TreeNode object at 0x10caae610&#45;&gt;__main__.TreeNode object at 0x10caaeee0</title>\n<path fill=\"none\" stroke=\"black\" d=\"M27,-71.7C27,-63.98 27,-54.71 27,-46.11\"/>\n<polygon fill=\"black\" stroke=\"black\" points=\"30.5,-46.1 27,-36.1 23.5,-46.1 30.5,-46.1\"/>\n</g>\n</g>\n</svg>\n",
      "text/plain": [
       "<graphviz.graphs.Digraph at 0x10caae640>"
      ]
     },
     "execution_count": 24,
     "metadata": {},
     "output_type": "execute_result"
    }
   ],
   "source": [
    "visualize_tree(t1)"
   ]
  },
  {
   "cell_type": "code",
   "execution_count": 25,
   "metadata": {},
   "outputs": [
    {
     "data": {
      "image/svg+xml": "<?xml version=\"1.0\" encoding=\"UTF-8\" standalone=\"no\"?>\n<!DOCTYPE svg PUBLIC \"-//W3C//DTD SVG 1.1//EN\"\n \"http://www.w3.org/Graphics/SVG/1.1/DTD/svg11.dtd\">\n<!-- Generated by graphviz version 3.0.0 (20220226.1711)\n -->\n<!-- Title: G Pages: 1 -->\n<svg width=\"134pt\" height=\"188pt\"\n viewBox=\"0.00 0.00 134.00 188.00\" xmlns=\"http://www.w3.org/2000/svg\" xmlns:xlink=\"http://www.w3.org/1999/xlink\">\n<g id=\"graph0\" class=\"graph\" transform=\"scale(1 1) rotate(0) translate(4 184)\">\n<title>G</title>\n<polygon fill=\"white\" stroke=\"transparent\" points=\"-4,4 -4,-184 130,-184 130,4 -4,4\"/>\n<!-- __main__.TreeNode object at 0x10caaef40 -->\n<g id=\"node1\" class=\"node\">\n<title>__main__.TreeNode object at 0x10caaef40</title>\n<ellipse fill=\"none\" stroke=\"black\" cx=\"63\" cy=\"-162\" rx=\"27\" ry=\"18\"/>\n<text text-anchor=\"middle\" x=\"63\" y=\"-158.3\" font-family=\"Times,serif\" font-size=\"14.00\">2</text>\n</g>\n<!-- __main__.TreeNode object at 0x10caaeb50 -->\n<g id=\"node2\" class=\"node\">\n<title>__main__.TreeNode object at 0x10caaeb50</title>\n<ellipse fill=\"none\" stroke=\"black\" cx=\"27\" cy=\"-90\" rx=\"27\" ry=\"18\"/>\n<text text-anchor=\"middle\" x=\"27\" y=\"-86.3\" font-family=\"Times,serif\" font-size=\"14.00\">1</text>\n</g>\n<!-- __main__.TreeNode object at 0x10caaef40&#45;&gt;__main__.TreeNode object at 0x10caaeb50 -->\n<g id=\"edge1\" class=\"edge\">\n<title>__main__.TreeNode object at 0x10caaef40&#45;&gt;__main__.TreeNode object at 0x10caaeb50</title>\n<path fill=\"none\" stroke=\"black\" d=\"M54.65,-144.76C50.29,-136.28 44.85,-125.71 39.96,-116.2\"/>\n<polygon fill=\"black\" stroke=\"black\" points=\"42.99,-114.44 35.3,-107.15 36.77,-117.64 42.99,-114.44\"/>\n</g>\n<!-- __main__.TreeNode object at 0x10caae580 -->\n<g id=\"node4\" class=\"node\">\n<title>__main__.TreeNode object at 0x10caae580</title>\n<ellipse fill=\"none\" stroke=\"black\" cx=\"99\" cy=\"-90\" rx=\"27\" ry=\"18\"/>\n<text text-anchor=\"middle\" x=\"99\" y=\"-86.3\" font-family=\"Times,serif\" font-size=\"14.00\">3</text>\n</g>\n<!-- __main__.TreeNode object at 0x10caaef40&#45;&gt;__main__.TreeNode object at 0x10caae580 -->\n<g id=\"edge3\" class=\"edge\">\n<title>__main__.TreeNode object at 0x10caaef40&#45;&gt;__main__.TreeNode object at 0x10caae580</title>\n<path fill=\"none\" stroke=\"black\" d=\"M71.35,-144.76C75.71,-136.28 81.15,-125.71 86.04,-116.2\"/>\n<polygon fill=\"black\" stroke=\"black\" points=\"89.23,-117.64 90.7,-107.15 83.01,-114.44 89.23,-117.64\"/>\n</g>\n<!-- __main__.TreeNode object at 0x10caae880 -->\n<g id=\"node3\" class=\"node\">\n<title>__main__.TreeNode object at 0x10caae880</title>\n<ellipse fill=\"none\" stroke=\"black\" cx=\"27\" cy=\"-18\" rx=\"27\" ry=\"18\"/>\n<text text-anchor=\"middle\" x=\"27\" y=\"-14.3\" font-family=\"Times,serif\" font-size=\"14.00\">4</text>\n</g>\n<!-- __main__.TreeNode object at 0x10caaeb50&#45;&gt;__main__.TreeNode object at 0x10caae880 -->\n<g id=\"edge2\" class=\"edge\">\n<title>__main__.TreeNode object at 0x10caaeb50&#45;&gt;__main__.TreeNode object at 0x10caae880</title>\n<path fill=\"none\" stroke=\"black\" d=\"M27,-71.7C27,-63.98 27,-54.71 27,-46.11\"/>\n<polygon fill=\"black\" stroke=\"black\" points=\"30.5,-46.1 27,-36.1 23.5,-46.1 30.5,-46.1\"/>\n</g>\n<!-- __main__.TreeNode object at 0x10caaefa0 -->\n<g id=\"node5\" class=\"node\">\n<title>__main__.TreeNode object at 0x10caaefa0</title>\n<ellipse fill=\"none\" stroke=\"black\" cx=\"99\" cy=\"-18\" rx=\"27\" ry=\"18\"/>\n<text text-anchor=\"middle\" x=\"99\" y=\"-14.3\" font-family=\"Times,serif\" font-size=\"14.00\">7</text>\n</g>\n<!-- __main__.TreeNode object at 0x10caae580&#45;&gt;__main__.TreeNode object at 0x10caaefa0 -->\n<g id=\"edge4\" class=\"edge\">\n<title>__main__.TreeNode object at 0x10caae580&#45;&gt;__main__.TreeNode object at 0x10caaefa0</title>\n<path fill=\"none\" stroke=\"black\" d=\"M99,-71.7C99,-63.98 99,-54.71 99,-46.11\"/>\n<polygon fill=\"black\" stroke=\"black\" points=\"102.5,-46.1 99,-36.1 95.5,-46.1 102.5,-46.1\"/>\n</g>\n</g>\n</svg>\n",
      "text/plain": [
       "<graphviz.graphs.Digraph at 0x10caae730>"
      ]
     },
     "execution_count": 25,
     "metadata": {},
     "output_type": "execute_result"
    }
   ],
   "source": [
    "visualize_tree(t2)"
   ]
  },
  {
   "cell_type": "code",
   "execution_count": 26,
   "metadata": {},
   "outputs": [
    {
     "data": {
      "image/svg+xml": "<?xml version=\"1.0\" encoding=\"UTF-8\" standalone=\"no\"?>\n<!DOCTYPE svg PUBLIC \"-//W3C//DTD SVG 1.1//EN\"\n \"http://www.w3.org/Graphics/SVG/1.1/DTD/svg11.dtd\">\n<!-- Generated by graphviz version 3.0.0 (20220226.1711)\n -->\n<!-- Title: G Pages: 1 -->\n<svg width=\"206pt\" height=\"188pt\"\n viewBox=\"0.00 0.00 206.00 188.00\" xmlns=\"http://www.w3.org/2000/svg\" xmlns:xlink=\"http://www.w3.org/1999/xlink\">\n<g id=\"graph0\" class=\"graph\" transform=\"scale(1 1) rotate(0) translate(4 184)\">\n<title>G</title>\n<polygon fill=\"white\" stroke=\"transparent\" points=\"-4,4 -4,-184 202,-184 202,4 -4,4\"/>\n<!-- __main__.TreeNode object at 0x10caaef10 -->\n<g id=\"node1\" class=\"node\">\n<title>__main__.TreeNode object at 0x10caaef10</title>\n<ellipse fill=\"none\" stroke=\"black\" cx=\"135\" cy=\"-162\" rx=\"27\" ry=\"18\"/>\n<text text-anchor=\"middle\" x=\"135\" y=\"-158.3\" font-family=\"Times,serif\" font-size=\"14.00\">3</text>\n</g>\n<!-- __main__.TreeNode object at 0x10ca77e50 -->\n<g id=\"node2\" class=\"node\">\n<title>__main__.TreeNode object at 0x10ca77e50</title>\n<ellipse fill=\"none\" stroke=\"black\" cx=\"99\" cy=\"-90\" rx=\"27\" ry=\"18\"/>\n<text text-anchor=\"middle\" x=\"99\" y=\"-86.3\" font-family=\"Times,serif\" font-size=\"14.00\">4</text>\n</g>\n<!-- __main__.TreeNode object at 0x10caaef10&#45;&gt;__main__.TreeNode object at 0x10ca77e50 -->\n<g id=\"edge1\" class=\"edge\">\n<title>__main__.TreeNode object at 0x10caaef10&#45;&gt;__main__.TreeNode object at 0x10ca77e50</title>\n<path fill=\"none\" stroke=\"black\" d=\"M126.65,-144.76C122.29,-136.28 116.85,-125.71 111.96,-116.2\"/>\n<polygon fill=\"black\" stroke=\"black\" points=\"114.99,-114.44 107.3,-107.15 108.77,-117.64 114.99,-114.44\"/>\n</g>\n<!-- __main__.TreeNode object at 0x10cac3160 -->\n<g id=\"node5\" class=\"node\">\n<title>__main__.TreeNode object at 0x10cac3160</title>\n<ellipse fill=\"none\" stroke=\"black\" cx=\"171\" cy=\"-90\" rx=\"27\" ry=\"18\"/>\n<text text-anchor=\"middle\" x=\"171\" y=\"-86.3\" font-family=\"Times,serif\" font-size=\"14.00\">5</text>\n</g>\n<!-- __main__.TreeNode object at 0x10caaef10&#45;&gt;__main__.TreeNode object at 0x10cac3160 -->\n<g id=\"edge4\" class=\"edge\">\n<title>__main__.TreeNode object at 0x10caaef10&#45;&gt;__main__.TreeNode object at 0x10cac3160</title>\n<path fill=\"none\" stroke=\"black\" d=\"M143.35,-144.76C147.71,-136.28 153.15,-125.71 158.04,-116.2\"/>\n<polygon fill=\"black\" stroke=\"black\" points=\"161.23,-117.64 162.7,-107.15 155.01,-114.44 161.23,-117.64\"/>\n</g>\n<!-- __main__.TreeNode object at 0x10caaeee0 -->\n<g id=\"node3\" class=\"node\">\n<title>__main__.TreeNode object at 0x10caaeee0</title>\n<ellipse fill=\"none\" stroke=\"black\" cx=\"27\" cy=\"-18\" rx=\"27\" ry=\"18\"/>\n<text text-anchor=\"middle\" x=\"27\" y=\"-14.3\" font-family=\"Times,serif\" font-size=\"14.00\">5</text>\n</g>\n<!-- __main__.TreeNode object at 0x10ca77e50&#45;&gt;__main__.TreeNode object at 0x10caaeee0 -->\n<g id=\"edge2\" class=\"edge\">\n<title>__main__.TreeNode object at 0x10ca77e50&#45;&gt;__main__.TreeNode object at 0x10caaeee0</title>\n<path fill=\"none\" stroke=\"black\" d=\"M84.43,-74.83C74.25,-64.94 60.48,-51.55 48.97,-40.36\"/>\n<polygon fill=\"black\" stroke=\"black\" points=\"51.41,-37.85 41.8,-33.38 46.53,-42.87 51.41,-37.85\"/>\n</g>\n<!-- __main__.TreeNode object at 0x10caae880 -->\n<g id=\"node4\" class=\"node\">\n<title>__main__.TreeNode object at 0x10caae880</title>\n<ellipse fill=\"none\" stroke=\"black\" cx=\"99\" cy=\"-18\" rx=\"27\" ry=\"18\"/>\n<text text-anchor=\"middle\" x=\"99\" y=\"-14.3\" font-family=\"Times,serif\" font-size=\"14.00\">4</text>\n</g>\n<!-- __main__.TreeNode object at 0x10ca77e50&#45;&gt;__main__.TreeNode object at 0x10caae880 -->\n<g id=\"edge3\" class=\"edge\">\n<title>__main__.TreeNode object at 0x10ca77e50&#45;&gt;__main__.TreeNode object at 0x10caae880</title>\n<path fill=\"none\" stroke=\"black\" d=\"M99,-71.7C99,-63.98 99,-54.71 99,-46.11\"/>\n<polygon fill=\"black\" stroke=\"black\" points=\"102.5,-46.1 99,-36.1 95.5,-46.1 102.5,-46.1\"/>\n</g>\n<!-- __main__.TreeNode object at 0x10caaefa0 -->\n<g id=\"node6\" class=\"node\">\n<title>__main__.TreeNode object at 0x10caaefa0</title>\n<ellipse fill=\"none\" stroke=\"black\" cx=\"171\" cy=\"-18\" rx=\"27\" ry=\"18\"/>\n<text text-anchor=\"middle\" x=\"171\" y=\"-14.3\" font-family=\"Times,serif\" font-size=\"14.00\">7</text>\n</g>\n<!-- __main__.TreeNode object at 0x10cac3160&#45;&gt;__main__.TreeNode object at 0x10caaefa0 -->\n<g id=\"edge5\" class=\"edge\">\n<title>__main__.TreeNode object at 0x10cac3160&#45;&gt;__main__.TreeNode object at 0x10caaefa0</title>\n<path fill=\"none\" stroke=\"black\" d=\"M171,-71.7C171,-63.98 171,-54.71 171,-46.11\"/>\n<polygon fill=\"black\" stroke=\"black\" points=\"174.5,-46.1 171,-36.1 167.5,-46.1 174.5,-46.1\"/>\n</g>\n</g>\n</svg>\n",
      "text/plain": [
       "<graphviz.graphs.Digraph at 0x10cac3820>"
      ]
     },
     "execution_count": 26,
     "metadata": {},
     "output_type": "execute_result"
    }
   ],
   "source": [
    "s = Solution()\n",
    "visualize_tree(s.mergeTrees(t1, t2))"
   ]
  },
  {
   "cell_type": "markdown",
   "metadata": {},
   "source": [
    "## Preliminary Experiment"
   ]
  },
  {
   "cell_type": "code",
   "execution_count": 27,
   "metadata": {},
   "outputs": [],
   "source": [
    "import graphviz"
   ]
  },
  {
   "cell_type": "markdown",
   "metadata": {},
   "source": [
    "### Optimizing Aesthetics"
   ]
  },
  {
   "cell_type": "markdown",
   "metadata": {},
   "source": [
    "GraphViz has a built-in color scheming system. No need to use palettable."
   ]
  },
  {
   "cell_type": "code",
   "execution_count": 28,
   "metadata": {},
   "outputs": [],
   "source": [
    "def get_map(curriculum, kwargs={}):\n",
    "\n",
    "    # graph\n",
    "    c = graphviz.Digraph('Curriculum') # format='jpg' # filename='process.gv'\n",
    "    c.attr(rankdir='LR') # make this horizontal. (important)\n",
    "    c.attr(**kwargs) # pass keyword arguments to Digraph object\n",
    "        \n",
    "    # node defaults\n",
    "    c.node_attr['colorscheme']='ylgnbu9' # color scheme\n",
    "    c.node_attr['style'] = 'rounded, filled'\n",
    "    c.node_attr['shape'] = 'box'\n",
    "\n",
    "    # iterate upon each course\n",
    "    for course, pre_reqs in curriculum.items():\n",
    "\n",
    "        # course has pre-reqs\n",
    "        if pre_reqs:\n",
    "            for pre_req in pre_reqs:\n",
    "                # co-req\n",
    "                if pre_req[-1] == '*': \n",
    "                    # c.node(pre_req[:-1], color='2')\n",
    "                    c.edge(pre_req[:-1], course, color='green')\n",
    "                # pre-req\n",
    "                else: \n",
    "                    # c.node(pre_req, color='1')\n",
    "                    c.edge(pre_req, course)\n",
    "        else: \n",
    "            c.node(course, color='3') # ensures that introductory courses exist\n",
    "    return c"
   ]
  },
  {
   "cell_type": "markdown",
   "metadata": {},
   "source": [
    "You can make an entire graph solely out of edge commands? What a legendary API wtf"
   ]
  },
  {
   "cell_type": "markdown",
   "metadata": {},
   "source": [
    "Bug: humanities not shown. Where did it disappear? → Fixed ✅  \n",
    "**ㄴ node never gets created in cases where incoming and outcoming pre-reqs do not exist.**  "
   ]
  },
  {
   "cell_type": "markdown",
   "metadata": {},
   "source": [
    "### Interactivity (Completed Courses)"
   ]
  },
  {
   "cell_type": "code",
   "execution_count": 29,
   "metadata": {},
   "outputs": [],
   "source": [
    "from ipywidgets import widgets\n",
    "from IPython.display import display"
   ]
  },
  {
   "cell_type": "code",
   "execution_count": 30,
   "metadata": {},
   "outputs": [
    {
     "data": {
      "application/vnd.jupyter.widget-view+json": {
       "model_id": "7b96fce70f24493c823e9e0e7324838f",
       "version_major": 2,
       "version_minor": 0
      },
      "text/plain": [
       "VBox(children=(Label(value='Check your completed courses.'), HBox(children=(VBox(children=(Checkbox(value=Fals…"
      ]
     },
     "metadata": {},
     "output_type": "display_data"
    }
   ],
   "source": [
    "# Nx4 matrix of checkboxes\n",
    "checkboxes = []\n",
    "for course in curriculum.keys():\n",
    "    checkboxes.append(widgets.Checkbox(description=course))\n",
    "\n",
    "width = 4; height = len(checkboxes)//width+1 # boundary case ain't perfect but whatevs.\n",
    "\n",
    "columns = []\n",
    "for i in range(width): columns.append(widgets.VBox(checkboxes[height*i:height*(i+1)])) # fill in the columns\n",
    "hbox = widgets.HBox([*columns]) # dot operator unpacks an iterable\n",
    "display(widgets.VBox([widgets.Label('Check your completed courses.'), hbox]))"
   ]
  },
  {
   "cell_type": "markdown",
   "metadata": {},
   "source": [
    "**`delete_course()`**\n",
    "\n",
    "Let's make it non-mutable. Nah let's make it mutable.\n",
    "\n",
    "Pseudocode:\n",
    "- if a completed course is within curriculum, find and delete all occurrence of it as a pre-req.\n",
    "- if it has a pre-req (not a co-req), delete all of its pre-reqs too."
   ]
  },
  {
   "cell_type": "code",
   "execution_count": 31,
   "metadata": {},
   "outputs": [],
   "source": [
    "def delete_course(curriculum):\n",
    "    for course in curriculum.keys(): pass\n",
    "\n",
    "# print all the deleted courses."
   ]
  },
  {
   "cell_type": "markdown",
   "metadata": {},
   "source": [
    "**WAIT: It seems like a good idea to delay implementing this until curriculum object is defined.**"
   ]
  },
  {
   "cell_type": "markdown",
   "metadata": {},
   "source": [
    "# Output"
   ]
  },
  {
   "cell_type": "code",
   "execution_count": 34,
   "metadata": {},
   "outputs": [
    {
     "data": {
      "image/svg+xml": "<?xml version=\"1.0\" encoding=\"UTF-8\" standalone=\"no\"?>\n<!DOCTYPE svg PUBLIC \"-//W3C//DTD SVG 1.1//EN\"\n \"http://www.w3.org/Graphics/SVG/1.1/DTD/svg11.dtd\">\n<!-- Generated by graphviz version 3.0.0 (20220226.1711)\n -->\n<!-- Title: Curriculum Pages: 1 -->\n<svg width=\"1077pt\" height=\"803pt\"\n viewBox=\"0.00 0.00 1077.00 803.00\" xmlns=\"http://www.w3.org/2000/svg\" xmlns:xlink=\"http://www.w3.org/1999/xlink\">\n<g id=\"graph0\" class=\"graph\" transform=\"scale(1 1) rotate(0) translate(4 799)\">\n<title>Curriculum</title>\n<polygon fill=\"white\" stroke=\"transparent\" points=\"-4,4 -4,-799 1073,-799 1073,4 -4,4\"/>\n<!-- CHEM 1310 -->\n<g id=\"node1\" class=\"node\">\n<title>CHEM 1310</title>\n<path fill=\"#c7e9b4\" stroke=\"#c7e9b4\" d=\"M727,-528C727,-528 664,-528 664,-528 658,-528 652,-522 652,-516 652,-516 652,-504 652,-504 652,-498 658,-492 664,-492 664,-492 727,-492 727,-492 733,-492 739,-498 739,-504 739,-504 739,-516 739,-516 739,-522 733,-528 727,-528\"/>\n<text text-anchor=\"middle\" x=\"695.5\" y=\"-506.3\" font-family=\"Times,serif\" font-size=\"14.00\">CHEM 1310</text>\n</g>\n<!-- MSE 2001 -->\n<g id=\"node16\" class=\"node\">\n<title>MSE 2001</title>\n<path fill=\"lightgrey\" stroke=\"black\" d=\"M844,-501C844,-501 792,-501 792,-501 786,-501 780,-495 780,-489 780,-489 780,-477 780,-477 780,-471 786,-465 792,-465 792,-465 844,-465 844,-465 850,-465 856,-471 856,-477 856,-477 856,-489 856,-489 856,-495 850,-501 844,-501\"/>\n<text text-anchor=\"middle\" x=\"818\" y=\"-479.3\" font-family=\"Times,serif\" font-size=\"14.00\">MSE 2001</text>\n</g>\n<!-- CHEM 1310&#45;&gt;MSE 2001 -->\n<g id=\"edge9\" class=\"edge\">\n<title>CHEM 1310&#45;&gt;MSE 2001</title>\n<path fill=\"none\" stroke=\"black\" d=\"M739.32,-500.4C749.27,-498.18 759.9,-495.79 770.02,-493.53\"/>\n<polygon fill=\"black\" stroke=\"black\" points=\"770.92,-496.91 779.91,-491.31 769.39,-490.08 770.92,-496.91\"/>\n</g>\n<!-- MATH 1551 -->\n<g id=\"node2\" class=\"node\">\n<title>MATH 1551</title>\n<path fill=\"#c7e9b4\" stroke=\"#c7e9b4\" d=\"M95,-255C95,-255 33,-255 33,-255 27,-255 21,-249 21,-243 21,-243 21,-231 21,-231 21,-225 27,-219 33,-219 33,-219 95,-219 95,-219 101,-219 107,-225 107,-231 107,-231 107,-243 107,-243 107,-249 101,-255 95,-255\"/>\n<text text-anchor=\"middle\" x=\"64\" y=\"-233.3\" font-family=\"Times,serif\" font-size=\"14.00\">MATH 1551</text>\n</g>\n<!-- MATH 1552 -->\n<g id=\"node7\" class=\"node\">\n<title>MATH 1552</title>\n<path fill=\"lightgrey\" stroke=\"black\" d=\"M238,-255C238,-255 176,-255 176,-255 170,-255 164,-249 164,-243 164,-243 164,-231 164,-231 164,-225 170,-219 176,-219 176,-219 238,-219 238,-219 244,-219 250,-225 250,-231 250,-231 250,-243 250,-243 250,-249 244,-255 238,-255\"/>\n<text text-anchor=\"middle\" x=\"207\" y=\"-233.3\" font-family=\"Times,serif\" font-size=\"14.00\">MATH 1552</text>\n</g>\n<!-- MATH 1551&#45;&gt;MATH 1552 -->\n<g id=\"edge2\" class=\"edge\">\n<title>MATH 1551&#45;&gt;MATH 1552</title>\n<path fill=\"none\" stroke=\"black\" d=\"M107.3,-237C121.8,-237 138.21,-237 153.42,-237\"/>\n<polygon fill=\"black\" stroke=\"black\" points=\"153.73,-240.5 163.73,-237 153.73,-233.5 153.73,-240.5\"/>\n</g>\n<!-- MATH 1553 -->\n<g id=\"node3\" class=\"node\">\n<title>MATH 1553</title>\n<path fill=\"#c7e9b4\" stroke=\"#c7e9b4\" d=\"M360,-113C360,-113 298,-113 298,-113 292,-113 286,-107 286,-101 286,-101 286,-89 286,-89 286,-83 292,-77 298,-77 298,-77 360,-77 360,-77 366,-77 372,-83 372,-89 372,-89 372,-101 372,-101 372,-107 366,-113 360,-113\"/>\n<text text-anchor=\"middle\" x=\"329\" y=\"-91.3\" font-family=\"Times,serif\" font-size=\"14.00\">MATH 1553</text>\n</g>\n<!-- MATH 2551 -->\n<g id=\"node13\" class=\"node\">\n<title>MATH 2551</title>\n<path fill=\"lightgrey\" stroke=\"black\" d=\"M604,-36C604,-36 542,-36 542,-36 536,-36 530,-30 530,-24 530,-24 530,-12 530,-12 530,-6 536,0 542,0 542,0 604,0 604,0 610,0 616,-6 616,-12 616,-12 616,-24 616,-24 616,-30 610,-36 604,-36\"/>\n<text text-anchor=\"middle\" x=\"573\" y=\"-14.3\" font-family=\"Times,serif\" font-size=\"14.00\">MATH 2551</text>\n</g>\n<!-- MATH 1553&#45;&gt;MATH 2551 -->\n<g id=\"edge6\" class=\"edge\">\n<title>MATH 1553&#45;&gt;MATH 2551</title>\n<path fill=\"none\" stroke=\"black\" d=\"M372.15,-81.59C413.32,-68.49 476.06,-48.53 520.24,-34.47\"/>\n<polygon fill=\"black\" stroke=\"black\" points=\"521.46,-37.75 529.92,-31.39 519.33,-31.08 521.46,-37.75\"/>\n</g>\n<!-- MATH 2552 -->\n<g id=\"node18\" class=\"node\">\n<title>MATH 2552</title>\n<path fill=\"lightgrey\" stroke=\"black\" d=\"M482,-251C482,-251 420,-251 420,-251 414,-251 408,-245 408,-239 408,-239 408,-227 408,-227 408,-221 414,-215 420,-215 420,-215 482,-215 482,-215 488,-215 494,-221 494,-227 494,-227 494,-239 494,-239 494,-245 488,-251 482,-251\"/>\n<text text-anchor=\"middle\" x=\"451\" y=\"-229.3\" font-family=\"Times,serif\" font-size=\"14.00\">MATH 2552</text>\n</g>\n<!-- MATH 1553&#45;&gt;MATH 2552 -->\n<g id=\"edge14\" class=\"edge\">\n<title>MATH 1553&#45;&gt;MATH 2552</title>\n<path fill=\"none\" stroke=\"black\" d=\"M339.78,-113.14C353.02,-136.54 378.43,-177.62 408,-206 408.91,-206.88 409.86,-207.74 410.84,-208.6\"/>\n<polygon fill=\"black\" stroke=\"black\" points=\"408.68,-211.36 418.69,-214.84 413.04,-205.87 408.68,-211.36\"/>\n</g>\n<!-- ME 2016 -->\n<g id=\"node19\" class=\"node\">\n<title>ME 2016</title>\n<path fill=\"lightgrey\" stroke=\"black\" d=\"M595,-198C595,-198 551,-198 551,-198 545,-198 539,-192 539,-186 539,-186 539,-174 539,-174 539,-168 545,-162 551,-162 551,-162 595,-162 595,-162 601,-162 607,-168 607,-174 607,-174 607,-186 607,-186 607,-192 601,-198 595,-198\"/>\n<text text-anchor=\"middle\" x=\"573\" y=\"-176.3\" font-family=\"Times,serif\" font-size=\"14.00\">ME 2016</text>\n</g>\n<!-- MATH 1553&#45;&gt;ME 2016 -->\n<g id=\"edge15\" class=\"edge\">\n<title>MATH 1553&#45;&gt;ME 2016</title>\n<path fill=\"none\" stroke=\"black\" d=\"M372.17,-109.53C405.32,-120.98 452.65,-137.39 494,-152 505.33,-156 517.57,-160.37 528.92,-164.45\"/>\n<polygon fill=\"black\" stroke=\"black\" points=\"528.03,-167.85 538.62,-167.94 530.4,-161.26 528.03,-167.85\"/>\n</g>\n<!-- ME 2202 -->\n<g id=\"node20\" class=\"node\">\n<title>ME 2202</title>\n<path fill=\"lightgrey\" stroke=\"black\" d=\"M595,-144C595,-144 551,-144 551,-144 545,-144 539,-138 539,-132 539,-132 539,-120 539,-120 539,-114 545,-108 551,-108 551,-108 595,-108 595,-108 601,-108 607,-114 607,-120 607,-120 607,-132 607,-132 607,-138 601,-144 595,-144\"/>\n<text text-anchor=\"middle\" x=\"573\" y=\"-122.3\" font-family=\"Times,serif\" font-size=\"14.00\">ME 2202</text>\n</g>\n<!-- MATH 1553&#45;&gt;ME 2202 -->\n<g id=\"edge19\" class=\"edge\">\n<title>MATH 1553&#45;&gt;ME 2202</title>\n<path fill=\"none\" stroke=\"green\" d=\"M372.15,-100.4C416.03,-106.02 484.41,-114.78 528.71,-120.45\"/>\n<polygon fill=\"green\" stroke=\"green\" points=\"528.51,-123.96 538.87,-121.76 529.4,-117.01 528.51,-123.96\"/>\n</g>\n<!-- Legislative -->\n<g id=\"node4\" class=\"node\">\n<title>Legislative</title>\n<path fill=\"#c7e9b4\" stroke=\"#c7e9b4\" d=\"M90.5,-309C90.5,-309 37.5,-309 37.5,-309 31.5,-309 25.5,-303 25.5,-297 25.5,-297 25.5,-285 25.5,-285 25.5,-279 31.5,-273 37.5,-273 37.5,-273 90.5,-273 90.5,-273 96.5,-273 102.5,-279 102.5,-285 102.5,-285 102.5,-297 102.5,-297 102.5,-303 96.5,-309 90.5,-309\"/>\n<text text-anchor=\"middle\" x=\"64\" y=\"-287.3\" font-family=\"Times,serif\" font-size=\"14.00\">Legislative</text>\n</g>\n<!-- ENGL 1101 -->\n<g id=\"node5\" class=\"node\">\n<title>ENGL 1101</title>\n<path fill=\"#c7e9b4\" stroke=\"#c7e9b4\" d=\"M93.5,-363C93.5,-363 34.5,-363 34.5,-363 28.5,-363 22.5,-357 22.5,-351 22.5,-351 22.5,-339 22.5,-339 22.5,-333 28.5,-327 34.5,-327 34.5,-327 93.5,-327 93.5,-327 99.5,-327 105.5,-333 105.5,-339 105.5,-339 105.5,-351 105.5,-351 105.5,-357 99.5,-363 93.5,-363\"/>\n<text text-anchor=\"middle\" x=\"64\" y=\"-341.3\" font-family=\"Times,serif\" font-size=\"14.00\">ENGL 1101</text>\n</g>\n<!-- ENGL 1102 -->\n<g id=\"node11\" class=\"node\">\n<title>ENGL 1102</title>\n<path fill=\"lightgrey\" stroke=\"black\" d=\"M236.5,-363C236.5,-363 177.5,-363 177.5,-363 171.5,-363 165.5,-357 165.5,-351 165.5,-351 165.5,-339 165.5,-339 165.5,-333 171.5,-327 177.5,-327 177.5,-327 236.5,-327 236.5,-327 242.5,-327 248.5,-333 248.5,-339 248.5,-339 248.5,-351 248.5,-351 248.5,-357 242.5,-363 236.5,-363\"/>\n<text text-anchor=\"middle\" x=\"207\" y=\"-341.3\" font-family=\"Times,serif\" font-size=\"14.00\">ENGL 1102</text>\n</g>\n<!-- ENGL 1101&#45;&gt;ENGL 1102 -->\n<g id=\"edge3\" class=\"edge\">\n<title>ENGL 1101&#45;&gt;ENGL 1102</title>\n<path fill=\"none\" stroke=\"black\" d=\"M105.78,-345C121.13,-345 138.77,-345 154.94,-345\"/>\n<polygon fill=\"black\" stroke=\"black\" points=\"155.31,-348.5 165.31,-345 155.31,-341.5 155.31,-348.5\"/>\n</g>\n<!-- Wellness -->\n<g id=\"node6\" class=\"node\">\n<title>Wellness</title>\n<path fill=\"#c7e9b4\" stroke=\"#c7e9b4\" d=\"M84.5,-417C84.5,-417 43.5,-417 43.5,-417 37.5,-417 31.5,-411 31.5,-405 31.5,-405 31.5,-393 31.5,-393 31.5,-387 37.5,-381 43.5,-381 43.5,-381 84.5,-381 84.5,-381 90.5,-381 96.5,-387 96.5,-393 96.5,-393 96.5,-405 96.5,-405 96.5,-411 90.5,-417 84.5,-417\"/>\n<text text-anchor=\"middle\" x=\"64\" y=\"-395.3\" font-family=\"Times,serif\" font-size=\"14.00\">Wellness</text>\n</g>\n<!-- PHYS 2211 -->\n<g id=\"node8\" class=\"node\">\n<title>PHYS 2211</title>\n<path fill=\"lightgrey\" stroke=\"black\" d=\"M358,-320C358,-320 300,-320 300,-320 294,-320 288,-314 288,-308 288,-308 288,-296 288,-296 288,-290 294,-284 300,-284 300,-284 358,-284 358,-284 364,-284 370,-290 370,-296 370,-296 370,-308 370,-308 370,-314 364,-320 358,-320\"/>\n<text text-anchor=\"middle\" x=\"329\" y=\"-298.3\" font-family=\"Times,serif\" font-size=\"14.00\">PHYS 2211</text>\n</g>\n<!-- MATH 1552&#45;&gt;PHYS 2211 -->\n<g id=\"edge1\" class=\"edge\">\n<title>MATH 1552&#45;&gt;PHYS 2211</title>\n<path fill=\"none\" stroke=\"green\" d=\"M241.43,-255.11C255.21,-262.57 271.34,-271.31 285.91,-279.2\"/>\n<polygon fill=\"green\" stroke=\"green\" points=\"284.29,-282.31 294.75,-283.99 287.63,-276.15 284.29,-282.31\"/>\n</g>\n<!-- MATH 1552&#45;&gt;MATH 2551 -->\n<g id=\"edge5\" class=\"edge\">\n<title>MATH 1552&#45;&gt;MATH 2551</title>\n<path fill=\"none\" stroke=\"black\" d=\"M211.02,-218.78C217.81,-183.89 237.61,-107.6 286,-68 352.51,-13.57 457.3,-9.46 519.87,-12.79\"/>\n<polygon fill=\"black\" stroke=\"black\" points=\"519.72,-16.29 529.91,-13.41 520.15,-9.3 519.72,-16.29\"/>\n</g>\n<!-- COE 2001 -->\n<g id=\"node15\" class=\"node\">\n<title>COE 2001</title>\n<path fill=\"lightgrey\" stroke=\"black\" d=\"M476,-305C476,-305 426,-305 426,-305 420,-305 414,-299 414,-293 414,-293 414,-281 414,-281 414,-275 420,-269 426,-269 426,-269 476,-269 476,-269 482,-269 488,-275 488,-281 488,-281 488,-293 488,-293 488,-299 482,-305 476,-305\"/>\n<text text-anchor=\"middle\" x=\"451\" y=\"-283.3\" font-family=\"Times,serif\" font-size=\"14.00\">COE 2001</text>\n</g>\n<!-- MATH 1552&#45;&gt;COE 2001 -->\n<g id=\"edge10\" class=\"edge\">\n<title>MATH 1552&#45;&gt;COE 2001</title>\n<path fill=\"none\" stroke=\"black\" d=\"M250.15,-245.71C293.12,-254.59 359.58,-268.32 403.92,-277.48\"/>\n<polygon fill=\"black\" stroke=\"black\" points=\"403.35,-280.94 413.85,-279.53 404.77,-274.08 403.35,-280.94\"/>\n</g>\n<!-- MATH 1552&#45;&gt;MATH 2552 -->\n<g id=\"edge13\" class=\"edge\">\n<title>MATH 1552&#45;&gt;MATH 2552</title>\n<path fill=\"none\" stroke=\"black\" d=\"M250.15,-236.3C291.15,-235.63 353.53,-234.59 397.68,-233.86\"/>\n<polygon fill=\"black\" stroke=\"black\" points=\"397.98,-237.36 407.92,-233.7 397.87,-230.36 397.98,-237.36\"/>\n</g>\n<!-- PHYS 2212 -->\n<g id=\"node12\" class=\"node\">\n<title>PHYS 2212</title>\n<path fill=\"lightgrey\" stroke=\"black\" d=\"M480,-370C480,-370 422,-370 422,-370 416,-370 410,-364 410,-358 410,-358 410,-346 410,-346 410,-340 416,-334 422,-334 422,-334 480,-334 480,-334 486,-334 492,-340 492,-346 492,-346 492,-358 492,-358 492,-364 486,-370 480,-370\"/>\n<text text-anchor=\"middle\" x=\"451\" y=\"-348.3\" font-family=\"Times,serif\" font-size=\"14.00\">PHYS 2212</text>\n</g>\n<!-- PHYS 2211&#45;&gt;PHYS 2212 -->\n<g id=\"edge4\" class=\"edge\">\n<title>PHYS 2211&#45;&gt;PHYS 2212</title>\n<path fill=\"none\" stroke=\"black\" d=\"M370.29,-318.79C379.89,-322.79 390.24,-327.1 400.21,-331.25\"/>\n<polygon fill=\"black\" stroke=\"black\" points=\"399.03,-334.56 409.61,-335.17 401.73,-328.09 399.03,-334.56\"/>\n</g>\n<!-- PHYS 2211&#45;&gt;COE 2001 -->\n<g id=\"edge11\" class=\"edge\">\n<title>PHYS 2211&#45;&gt;COE 2001</title>\n<path fill=\"none\" stroke=\"black\" d=\"M370.29,-296.96C380.92,-295.63 392.48,-294.19 403.41,-292.82\"/>\n<polygon fill=\"black\" stroke=\"black\" points=\"404.16,-296.26 413.65,-291.54 403.29,-289.31 404.16,-296.26\"/>\n</g>\n<!-- ME 3322 -->\n<g id=\"node24\" class=\"node\">\n<title>ME 3322</title>\n<path fill=\"lightgrey\" stroke=\"black\" d=\"M595,-90C595,-90 551,-90 551,-90 545,-90 539,-84 539,-78 539,-78 539,-66 539,-66 539,-60 545,-54 551,-54 551,-54 595,-54 595,-54 601,-54 607,-60 607,-66 607,-66 607,-78 607,-78 607,-84 601,-90 595,-90\"/>\n<text text-anchor=\"middle\" x=\"573\" y=\"-68.3\" font-family=\"Times,serif\" font-size=\"14.00\">ME 3322</text>\n</g>\n<!-- PHYS 2211&#45;&gt;ME 3322 -->\n<g id=\"edge23\" class=\"edge\">\n<title>PHYS 2211&#45;&gt;ME 3322</title>\n<path fill=\"none\" stroke=\"black\" d=\"M335.38,-283.53C345.19,-252.69 368.69,-190.31 408,-152 442.22,-118.65 493.04,-96.83 529.02,-84.53\"/>\n<polygon fill=\"black\" stroke=\"black\" points=\"530.36,-87.77 538.75,-81.31 528.16,-81.13 530.36,-87.77\"/>\n</g>\n<!-- CS 1371 -->\n<g id=\"node9\" class=\"node\">\n<title>CS 1371</title>\n<path fill=\"#c7e9b4\" stroke=\"#c7e9b4\" d=\"M471,-197C471,-197 431,-197 431,-197 425,-197 419,-191 419,-185 419,-185 419,-173 419,-173 419,-167 425,-161 431,-161 431,-161 471,-161 471,-161 477,-161 483,-167 483,-173 483,-173 483,-185 483,-185 483,-191 477,-197 471,-197\"/>\n<text text-anchor=\"middle\" x=\"451\" y=\"-175.3\" font-family=\"Times,serif\" font-size=\"14.00\">CS 1371</text>\n</g>\n<!-- CS 1371&#45;&gt;ME 2016 -->\n<g id=\"edge17\" class=\"edge\">\n<title>CS 1371&#45;&gt;ME 2016</title>\n<path fill=\"none\" stroke=\"black\" d=\"M483.22,-179.26C497.1,-179.38 513.67,-179.51 528.72,-179.64\"/>\n<polygon fill=\"black\" stroke=\"black\" points=\"528.81,-183.14 538.84,-179.72 528.87,-176.14 528.81,-183.14\"/>\n</g>\n<!-- ME 1670 -->\n<g id=\"node10\" class=\"node\">\n<title>ME 1670</title>\n<path fill=\"#c7e9b4\" stroke=\"#c7e9b4\" d=\"M717.5,-382C717.5,-382 673.5,-382 673.5,-382 667.5,-382 661.5,-376 661.5,-370 661.5,-370 661.5,-358 661.5,-358 661.5,-352 667.5,-346 673.5,-346 673.5,-346 717.5,-346 717.5,-346 723.5,-346 729.5,-352 729.5,-358 729.5,-358 729.5,-370 729.5,-370 729.5,-376 723.5,-382 717.5,-382\"/>\n<text text-anchor=\"middle\" x=\"695.5\" y=\"-360.3\" font-family=\"Times,serif\" font-size=\"14.00\">ME 1670</text>\n</g>\n<!-- ME 2110 -->\n<g id=\"node14\" class=\"node\">\n<title>ME 2110</title>\n<path fill=\"lightgrey\" stroke=\"black\" d=\"M840,-382C840,-382 796,-382 796,-382 790,-382 784,-376 784,-370 784,-370 784,-358 784,-358 784,-352 790,-346 796,-346 796,-346 840,-346 840,-346 846,-346 852,-352 852,-358 852,-358 852,-370 852,-370 852,-376 846,-382 840,-382\"/>\n<text text-anchor=\"middle\" x=\"818\" y=\"-360.3\" font-family=\"Times,serif\" font-size=\"14.00\">ME 2110</text>\n</g>\n<!-- ME 1670&#45;&gt;ME 2110 -->\n<g id=\"edge7\" class=\"edge\">\n<title>ME 1670&#45;&gt;ME 2110</title>\n<path fill=\"none\" stroke=\"black\" d=\"M729.75,-364C743.31,-364 759.18,-364 773.64,-364\"/>\n<polygon fill=\"black\" stroke=\"black\" points=\"773.86,-367.5 783.86,-364 773.86,-360.5 773.86,-367.5\"/>\n</g>\n<!-- ECE 3710 -->\n<g id=\"node17\" class=\"node\">\n<title>ECE 3710</title>\n<path fill=\"lightgrey\" stroke=\"black\" d=\"M597.5,-382C597.5,-382 548.5,-382 548.5,-382 542.5,-382 536.5,-376 536.5,-370 536.5,-370 536.5,-358 536.5,-358 536.5,-352 542.5,-346 548.5,-346 548.5,-346 597.5,-346 597.5,-346 603.5,-346 609.5,-352 609.5,-358 609.5,-358 609.5,-370 609.5,-370 609.5,-376 603.5,-382 597.5,-382\"/>\n<text text-anchor=\"middle\" x=\"573\" y=\"-360.3\" font-family=\"Times,serif\" font-size=\"14.00\">ECE 3710</text>\n</g>\n<!-- PHYS 2212&#45;&gt;ECE 3710 -->\n<g id=\"edge12\" class=\"edge\">\n<title>PHYS 2212&#45;&gt;ECE 3710</title>\n<path fill=\"none\" stroke=\"black\" d=\"M492.29,-356.03C503.24,-357.12 515.17,-358.32 526.39,-359.44\"/>\n<polygon fill=\"black\" stroke=\"black\" points=\"526.15,-362.93 536.44,-360.44 526.84,-355.97 526.15,-362.93\"/>\n</g>\n<!-- ME 3340 -->\n<g id=\"node25\" class=\"node\">\n<title>ME 3340</title>\n<path fill=\"lightgrey\" stroke=\"black\" d=\"M717.5,-87C717.5,-87 673.5,-87 673.5,-87 667.5,-87 661.5,-81 661.5,-75 661.5,-75 661.5,-63 661.5,-63 661.5,-57 667.5,-51 673.5,-51 673.5,-51 717.5,-51 717.5,-51 723.5,-51 729.5,-57 729.5,-63 729.5,-63 729.5,-75 729.5,-75 729.5,-81 723.5,-87 717.5,-87\"/>\n<text text-anchor=\"middle\" x=\"695.5\" y=\"-65.3\" font-family=\"Times,serif\" font-size=\"14.00\">ME 3340</text>\n</g>\n<!-- MATH 2551&#45;&gt;ME 3340 -->\n<g id=\"edge26\" class=\"edge\">\n<title>MATH 2551&#45;&gt;ME 3340</title>\n<path fill=\"none\" stroke=\"black\" d=\"M616.15,-35.84C627.7,-40.73 640.24,-46.04 651.83,-50.94\"/>\n<polygon fill=\"black\" stroke=\"black\" points=\"650.73,-54.27 661.3,-54.95 653.45,-47.83 650.73,-54.27\"/>\n</g>\n<!-- MATH 3670 -->\n<g id=\"node31\" class=\"node\">\n<title>MATH 3670</title>\n<path fill=\"lightgrey\" stroke=\"black\" d=\"M849,-76C849,-76 787,-76 787,-76 781,-76 775,-70 775,-64 775,-64 775,-52 775,-52 775,-46 781,-40 787,-40 787,-40 849,-40 849,-40 855,-40 861,-46 861,-52 861,-52 861,-64 861,-64 861,-70 855,-76 849,-76\"/>\n<text text-anchor=\"middle\" x=\"818\" y=\"-54.3\" font-family=\"Times,serif\" font-size=\"14.00\">MATH 3670</text>\n</g>\n<!-- MATH 2551&#45;&gt;MATH 3670 -->\n<g id=\"edge39\" class=\"edge\">\n<title>MATH 2551&#45;&gt;MATH 3670</title>\n<path fill=\"none\" stroke=\"black\" d=\"M616.15,-23.45C649.56,-27.93 697.37,-34.71 739,-42 747.42,-43.47 756.32,-45.17 764.97,-46.89\"/>\n<polygon fill=\"black\" stroke=\"black\" points=\"764.49,-50.37 774.99,-48.92 765.88,-43.5 764.49,-50.37\"/>\n</g>\n<!-- ME 3180 -->\n<g id=\"node33\" class=\"node\">\n<title>ME 3180</title>\n<path fill=\"lightgrey\" stroke=\"black\" d=\"M953,-336C953,-336 909,-336 909,-336 903,-336 897,-330 897,-324 897,-324 897,-312 897,-312 897,-306 903,-300 909,-300 909,-300 953,-300 953,-300 959,-300 965,-306 965,-312 965,-312 965,-324 965,-324 965,-330 959,-336 953,-336\"/>\n<text text-anchor=\"middle\" x=\"931\" y=\"-314.3\" font-family=\"Times,serif\" font-size=\"14.00\">ME 3180</text>\n</g>\n<!-- ME 2110&#45;&gt;ME 3180 -->\n<g id=\"edge40\" class=\"edge\">\n<title>ME 2110&#45;&gt;ME 3180</title>\n<path fill=\"none\" stroke=\"black\" d=\"M852,-350.32C863.2,-345.68 875.86,-340.44 887.68,-335.54\"/>\n<polygon fill=\"black\" stroke=\"black\" points=\"889.03,-338.77 896.93,-331.7 886.35,-332.3 889.03,-338.77\"/>\n</g>\n<!-- ME 3210 -->\n<g id=\"node34\" class=\"node\">\n<title>ME 3210</title>\n<path fill=\"lightgrey\" stroke=\"black\" d=\"M953,-428C953,-428 909,-428 909,-428 903,-428 897,-422 897,-416 897,-416 897,-404 897,-404 897,-398 903,-392 909,-392 909,-392 953,-392 953,-392 959,-392 965,-398 965,-404 965,-404 965,-416 965,-416 965,-422 959,-428 953,-428\"/>\n<text text-anchor=\"middle\" x=\"931\" y=\"-406.3\" font-family=\"Times,serif\" font-size=\"14.00\">ME 3210</text>\n</g>\n<!-- ME 2110&#45;&gt;ME 3210 -->\n<g id=\"edge43\" class=\"edge\">\n<title>ME 2110&#45;&gt;ME 3210</title>\n<path fill=\"none\" stroke=\"black\" d=\"M852,-377.68C863.2,-382.32 875.86,-387.56 887.68,-392.46\"/>\n<polygon fill=\"black\" stroke=\"black\" points=\"886.35,-395.7 896.93,-396.3 889.03,-389.23 886.35,-395.7\"/>\n</g>\n<!-- ME 4182 -->\n<g id=\"node37\" class=\"node\">\n<title>ME 4182</title>\n<path fill=\"lightgrey\" stroke=\"black\" d=\"M1057,-336C1057,-336 1013,-336 1013,-336 1007,-336 1001,-330 1001,-324 1001,-324 1001,-312 1001,-312 1001,-306 1007,-300 1013,-300 1013,-300 1057,-300 1057,-300 1063,-300 1069,-306 1069,-312 1069,-312 1069,-324 1069,-324 1069,-330 1063,-336 1057,-336\"/>\n<text text-anchor=\"middle\" x=\"1035\" y=\"-314.3\" font-family=\"Times,serif\" font-size=\"14.00\">ME 4182</text>\n</g>\n<!-- ME 2110&#45;&gt;ME 4182 -->\n<g id=\"edge53\" class=\"edge\">\n<title>ME 2110&#45;&gt;ME 4182</title>\n<path fill=\"none\" stroke=\"black\" d=\"M852.2,-361.99C882.08,-359.64 927,-354.75 965,-345 973.69,-342.77 982.77,-339.75 991.38,-336.54\"/>\n<polygon fill=\"black\" stroke=\"black\" points=\"992.79,-339.74 1000.85,-332.86 990.26,-333.22 992.79,-339.74\"/>\n</g>\n<!-- COE 2001&#45;&gt;ME 2110 -->\n<g id=\"edge8\" class=\"edge\">\n<title>COE 2001&#45;&gt;ME 2110</title>\n<path fill=\"none\" stroke=\"black\" d=\"M488.03,-292.53C554.06,-302.8 691.99,-324.85 739,-337 750.59,-339.99 762.92,-343.91 774.27,-347.83\"/>\n<polygon fill=\"black\" stroke=\"black\" points=\"773.36,-351.22 783.96,-351.24 775.69,-344.61 773.36,-351.22\"/>\n</g>\n<!-- COE 2001&#45;&gt;ME 2202 -->\n<g id=\"edge18\" class=\"edge\">\n<title>COE 2001&#45;&gt;ME 2202</title>\n<path fill=\"none\" stroke=\"black\" d=\"M485.06,-268.99C488.37,-266.28 491.44,-263.28 494,-260 524.84,-220.42 499.16,-192.58 530,-153 530.48,-152.38 530.98,-151.78 531.49,-151.18\"/>\n<polygon fill=\"black\" stroke=\"black\" points=\"534.17,-153.47 538.94,-144.01 529.31,-148.42 534.17,-153.47\"/>\n</g>\n<!-- COE 3001 -->\n<g id=\"node23\" class=\"node\">\n<title>COE 3001</title>\n<path fill=\"lightgrey\" stroke=\"black\" d=\"M598,-290C598,-290 548,-290 548,-290 542,-290 536,-284 536,-278 536,-278 536,-266 536,-266 536,-260 542,-254 548,-254 548,-254 598,-254 598,-254 604,-254 610,-260 610,-266 610,-266 610,-278 610,-278 610,-284 604,-290 598,-290\"/>\n<text text-anchor=\"middle\" x=\"573\" y=\"-268.3\" font-family=\"Times,serif\" font-size=\"14.00\">COE 3001</text>\n</g>\n<!-- COE 2001&#45;&gt;COE 3001 -->\n<g id=\"edge21\" class=\"edge\">\n<title>COE 2001&#45;&gt;COE 3001</title>\n<path fill=\"none\" stroke=\"black\" d=\"M488,-282.5C499.76,-281.03 512.99,-279.38 525.41,-277.82\"/>\n<polygon fill=\"black\" stroke=\"black\" points=\"526.12,-281.26 535.61,-276.55 525.25,-274.32 526.12,-281.26\"/>\n</g>\n<!-- MSE 2001&#45;&gt;ME 3210 -->\n<g id=\"edge42\" class=\"edge\">\n<title>MSE 2001&#45;&gt;ME 3210</title>\n<path fill=\"none\" stroke=\"black\" d=\"M846.44,-464.96C860.71,-455.57 878.35,-443.97 893.74,-433.85\"/>\n<polygon fill=\"black\" stroke=\"black\" points=\"896.06,-436.51 902.49,-428.09 892.21,-430.66 896.06,-436.51\"/>\n</g>\n<!-- ECE 3741 -->\n<g id=\"node22\" class=\"node\">\n<title>ECE 3741</title>\n<path fill=\"lightgrey\" stroke=\"black\" d=\"M720,-474C720,-474 671,-474 671,-474 665,-474 659,-468 659,-462 659,-462 659,-450 659,-450 659,-444 665,-438 671,-438 671,-438 720,-438 720,-438 726,-438 732,-444 732,-450 732,-450 732,-462 732,-462 732,-468 726,-474 720,-474\"/>\n<text text-anchor=\"middle\" x=\"695.5\" y=\"-452.3\" font-family=\"Times,serif\" font-size=\"14.00\">ECE 3741</text>\n</g>\n<!-- ECE 3710&#45;&gt;ECE 3741 -->\n<g id=\"edge20\" class=\"edge\">\n<title>ECE 3710&#45;&gt;ECE 3741</title>\n<path fill=\"none\" stroke=\"black\" d=\"M597.5,-382.18C612.96,-394.11 633.65,-410.03 652,-424 655.22,-426.45 658.57,-428.99 661.93,-431.53\"/>\n<polygon fill=\"black\" stroke=\"black\" points=\"660.1,-434.54 670.19,-437.77 664.32,-428.95 660.1,-434.54\"/>\n</g>\n<!-- ME 3017 -->\n<g id=\"node28\" class=\"node\">\n<title>ME 3017</title>\n<path fill=\"lightgrey\" stroke=\"black\" d=\"M717.5,-244C717.5,-244 673.5,-244 673.5,-244 667.5,-244 661.5,-238 661.5,-232 661.5,-232 661.5,-220 661.5,-220 661.5,-214 667.5,-208 673.5,-208 673.5,-208 717.5,-208 717.5,-208 723.5,-208 729.5,-214 729.5,-220 729.5,-220 729.5,-232 729.5,-232 729.5,-238 723.5,-244 717.5,-244\"/>\n<text text-anchor=\"middle\" x=\"695.5\" y=\"-222.3\" font-family=\"Times,serif\" font-size=\"14.00\">ME 3017</text>\n</g>\n<!-- ECE 3710&#45;&gt;ME 3017 -->\n<g id=\"edge31\" class=\"edge\">\n<title>ECE 3710&#45;&gt;ME 3017</title>\n<path fill=\"none\" stroke=\"black\" d=\"M589.75,-345.96C610.77,-321.89 648.12,-279.12 672.07,-251.69\"/>\n<polygon fill=\"black\" stroke=\"black\" points=\"674.8,-253.88 678.74,-244.05 669.53,-249.28 674.8,-253.88\"/>\n</g>\n<!-- MATH 2552&#45;&gt;ME 2016 -->\n<g id=\"edge16\" class=\"edge\">\n<title>MATH 2552&#45;&gt;ME 2016</title>\n<path fill=\"none\" stroke=\"green\" d=\"M492.96,-214.91C504.75,-209.7 517.63,-204.01 529.5,-198.77\"/>\n<polygon fill=\"green\" stroke=\"green\" points=\"531.04,-201.92 538.77,-194.67 528.21,-195.51 531.04,-201.92\"/>\n</g>\n<!-- MATH 2552&#45;&gt;COE 3001 -->\n<g id=\"edge22\" class=\"edge\">\n<title>MATH 2552&#45;&gt;COE 3001</title>\n<path fill=\"none\" stroke=\"green\" d=\"M494.31,-246.75C504.53,-250.07 515.51,-253.64 525.91,-257.02\"/>\n<polygon fill=\"green\" stroke=\"green\" points=\"525.05,-260.42 535.64,-260.18 527.22,-253.77 525.05,-260.42\"/>\n</g>\n<!-- MATH 2552&#45;&gt;ME 3322 -->\n<g id=\"edge24\" class=\"edge\">\n<title>MATH 2552&#45;&gt;ME 3322</title>\n<path fill=\"none\" stroke=\"black\" d=\"M485.06,-214.99C488.37,-212.28 491.44,-209.28 494,-206 524.84,-166.42 499.16,-138.58 530,-99 530.48,-98.38 530.98,-97.78 531.49,-97.18\"/>\n<polygon fill=\"black\" stroke=\"black\" points=\"534.17,-99.47 538.94,-90.01 529.31,-94.42 534.17,-99.47\"/>\n</g>\n<!-- MATH 2552&#45;&gt;ME 3017 -->\n<g id=\"edge30\" class=\"edge\">\n<title>MATH 2552&#45;&gt;ME 3017</title>\n<path fill=\"none\" stroke=\"black\" d=\"M494.24,-231.78C538.21,-230.51 606.73,-228.53 651.12,-227.25\"/>\n<polygon fill=\"black\" stroke=\"black\" points=\"651.41,-230.75 661.31,-226.96 651.21,-223.75 651.41,-230.75\"/>\n</g>\n<!-- ME 2016&#45;&gt;ME 3017 -->\n<g id=\"edge29\" class=\"edge\">\n<title>ME 2016&#45;&gt;ME 3017</title>\n<path fill=\"none\" stroke=\"black\" d=\"M607.25,-192.69C621.08,-197.97 637.3,-204.16 651.98,-209.77\"/>\n<polygon fill=\"black\" stroke=\"black\" points=\"650.77,-213.05 661.36,-213.35 653.27,-206.51 650.77,-213.05\"/>\n</g>\n<!-- ME 2202&#45;&gt;ME 3340 -->\n<g id=\"edge25\" class=\"edge\">\n<title>ME 2202&#45;&gt;ME 3340</title>\n<path fill=\"none\" stroke=\"black\" d=\"M607.25,-110.27C621.08,-103.73 637.3,-96.06 651.98,-89.11\"/>\n<polygon fill=\"black\" stroke=\"black\" points=\"653.82,-92.12 661.36,-84.68 650.83,-85.79 653.82,-92.12\"/>\n</g>\n<!-- ME 2202&#45;&gt;ME 3017 -->\n<g id=\"edge28\" class=\"edge\">\n<title>ME 2202&#45;&gt;ME 3017</title>\n<path fill=\"none\" stroke=\"black\" d=\"M603.83,-144.24C608,-147.06 612.17,-150.02 616,-153 634.9,-167.68 654.62,-186.03 669.57,-200.66\"/>\n<polygon fill=\"black\" stroke=\"black\" points=\"667.35,-203.39 676.92,-207.93 672.27,-198.41 667.35,-203.39\"/>\n</g>\n<!-- Social Science -->\n<g id=\"node21\" class=\"node\">\n<title>Social Science</title>\n<path fill=\"#c7e9b4\" stroke=\"#c7e9b4\" d=\"M100,-471C100,-471 28,-471 28,-471 22,-471 16,-465 16,-459 16,-459 16,-447 16,-447 16,-441 22,-435 28,-435 28,-435 100,-435 100,-435 106,-435 112,-441 112,-447 112,-447 112,-459 112,-459 112,-465 106,-471 100,-471\"/>\n<text text-anchor=\"middle\" x=\"64\" y=\"-449.3\" font-family=\"Times,serif\" font-size=\"14.00\">Social Science</text>\n</g>\n<!-- ME 3057 -->\n<g id=\"node30\" class=\"node\">\n<title>ME 3057</title>\n<path fill=\"lightgrey\" stroke=\"black\" d=\"M953,-198C953,-198 909,-198 909,-198 903,-198 897,-192 897,-186 897,-186 897,-174 897,-174 897,-168 903,-162 909,-162 909,-162 953,-162 953,-162 959,-162 965,-168 965,-174 965,-174 965,-186 965,-186 965,-192 959,-198 953,-198\"/>\n<text text-anchor=\"middle\" x=\"931\" y=\"-176.3\" font-family=\"Times,serif\" font-size=\"14.00\">ME 3057</text>\n</g>\n<!-- COE 3001&#45;&gt;ME 3057 -->\n<g id=\"edge34\" class=\"edge\">\n<title>COE 3001&#45;&gt;ME 3057</title>\n<path fill=\"none\" stroke=\"black\" d=\"M587.2,-253.9C601.12,-236.39 624.79,-210.84 652,-199 729.26,-165.4 830.06,-168.72 886.62,-174.28\"/>\n<polygon fill=\"black\" stroke=\"black\" points=\"886.34,-177.77 896.65,-175.34 887.07,-170.81 886.34,-177.77\"/>\n</g>\n<!-- COE 3001&#45;&gt;ME 3210 -->\n<g id=\"edge44\" class=\"edge\">\n<title>COE 3001&#45;&gt;ME 3210</title>\n<path fill=\"none\" stroke=\"black\" d=\"M585.78,-290.19C607.26,-323.34 650.72,-390.25 652,-391 725.46,-433.98 829.25,-426.86 886.99,-418.2\"/>\n<polygon fill=\"black\" stroke=\"black\" points=\"887.55,-421.66 896.87,-416.63 886.45,-414.74 887.55,-421.66\"/>\n</g>\n<!-- ME 3322&#45;&gt;ME 3340 -->\n<g id=\"edge27\" class=\"edge\">\n<title>ME 3322&#45;&gt;ME 3340</title>\n<path fill=\"none\" stroke=\"green\" d=\"M607.25,-71.17C620.81,-70.83 636.68,-70.44 651.14,-70.08\"/>\n<polygon fill=\"green\" stroke=\"green\" points=\"651.45,-73.57 661.36,-69.83 651.28,-66.58 651.45,-73.57\"/>\n</g>\n<!-- ME 3345 -->\n<g id=\"node29\" class=\"node\">\n<title>ME 3345</title>\n<path fill=\"lightgrey\" stroke=\"black\" d=\"M840,-130C840,-130 796,-130 796,-130 790,-130 784,-124 784,-118 784,-118 784,-106 784,-106 784,-100 790,-94 796,-94 796,-94 840,-94 840,-94 846,-94 852,-100 852,-106 852,-106 852,-118 852,-118 852,-124 846,-130 840,-130\"/>\n<text text-anchor=\"middle\" x=\"818\" y=\"-108.3\" font-family=\"Times,serif\" font-size=\"14.00\">ME 3345</text>\n</g>\n<!-- ME 3322&#45;&gt;ME 3345 -->\n<g id=\"edge32\" class=\"edge\">\n<title>ME 3322&#45;&gt;ME 3345</title>\n<path fill=\"none\" stroke=\"black\" d=\"M607.02,-83.78C620.77,-88.26 637,-93 652,-96 692.74,-104.16 740.01,-108.2 773.48,-110.18\"/>\n<polygon fill=\"black\" stroke=\"black\" points=\"773.66,-113.69 783.84,-110.75 774.05,-106.7 773.66,-113.69\"/>\n</g>\n<!-- ME 3340&#45;&gt;ME 3345 -->\n<g id=\"edge33\" class=\"edge\">\n<title>ME 3340&#45;&gt;ME 3345</title>\n<path fill=\"none\" stroke=\"black\" d=\"M729.75,-80.86C743.44,-85.75 759.49,-91.48 774.06,-96.68\"/>\n<polygon fill=\"black\" stroke=\"black\" points=\"773.27,-100.11 783.86,-100.17 775.62,-93.52 773.27,-100.11\"/>\n</g>\n<!-- ECON 2001 -->\n<g id=\"node26\" class=\"node\">\n<title>ECON 2001</title>\n<path fill=\"#c7e9b4\" stroke=\"#c7e9b4\" d=\"M94,-525C94,-525 34,-525 34,-525 28,-525 22,-519 22,-513 22,-513 22,-501 22,-501 22,-495 28,-489 34,-489 34,-489 94,-489 94,-489 100,-489 106,-495 106,-501 106,-501 106,-513 106,-513 106,-519 100,-525 94,-525\"/>\n<text text-anchor=\"middle\" x=\"64\" y=\"-503.3\" font-family=\"Times,serif\" font-size=\"14.00\">ECON 2001</text>\n</g>\n<!-- ISYE 3025 -->\n<g id=\"node32\" class=\"node\">\n<title>ISYE 3025</title>\n<path fill=\"lightgrey\" stroke=\"black\" d=\"M233.5,-525C233.5,-525 180.5,-525 180.5,-525 174.5,-525 168.5,-519 168.5,-513 168.5,-513 168.5,-501 168.5,-501 168.5,-495 174.5,-489 180.5,-489 180.5,-489 233.5,-489 233.5,-489 239.5,-489 245.5,-495 245.5,-501 245.5,-501 245.5,-513 245.5,-513 245.5,-519 239.5,-525 233.5,-525\"/>\n<text text-anchor=\"middle\" x=\"207\" y=\"-503.3\" font-family=\"Times,serif\" font-size=\"14.00\">ISYE 3025</text>\n</g>\n<!-- ECON 2001&#45;&gt;ISYE 3025 -->\n<g id=\"edge38\" class=\"edge\">\n<title>ECON 2001&#45;&gt;ISYE 3025</title>\n<path fill=\"none\" stroke=\"black\" d=\"M106.16,-507C122.45,-507 141.29,-507 158.18,-507\"/>\n<polygon fill=\"black\" stroke=\"black\" points=\"158.4,-510.5 168.4,-507 158.4,-503.5 158.4,-510.5\"/>\n</g>\n<!-- Humanities -->\n<g id=\"node27\" class=\"node\">\n<title>Humanities</title>\n<path fill=\"#c7e9b4\" stroke=\"#c7e9b4\" d=\"M92,-579C92,-579 36,-579 36,-579 30,-579 24,-573 24,-567 24,-567 24,-555 24,-555 24,-549 30,-543 36,-543 36,-543 92,-543 92,-543 98,-543 104,-549 104,-555 104,-555 104,-567 104,-567 104,-573 98,-579 92,-579\"/>\n<text text-anchor=\"middle\" x=\"64\" y=\"-557.3\" font-family=\"Times,serif\" font-size=\"14.00\">Humanities</text>\n</g>\n<!-- ME 3017&#45;&gt;ME 3057 -->\n<g id=\"edge35\" class=\"edge\">\n<title>ME 3017&#45;&gt;ME 3057</title>\n<path fill=\"none\" stroke=\"green\" d=\"M729.95,-219.41C771.34,-211.26 841.86,-197.36 887.16,-188.44\"/>\n<polygon fill=\"green\" stroke=\"green\" points=\"887.85,-191.87 896.98,-186.5 886.5,-185 887.85,-191.87\"/>\n</g>\n<!-- ME 4056 -->\n<g id=\"node35\" class=\"node\">\n<title>ME 4056</title>\n<path fill=\"lightgrey\" stroke=\"black\" d=\"M1057,-156C1057,-156 1013,-156 1013,-156 1007,-156 1001,-150 1001,-144 1001,-144 1001,-132 1001,-132 1001,-126 1007,-120 1013,-120 1013,-120 1057,-120 1057,-120 1063,-120 1069,-126 1069,-132 1069,-132 1069,-144 1069,-144 1069,-150 1063,-156 1057,-156\"/>\n<text text-anchor=\"middle\" x=\"1035\" y=\"-134.3\" font-family=\"Times,serif\" font-size=\"14.00\">ME 4056</text>\n</g>\n<!-- ME 3017&#45;&gt;ME 4056 -->\n<g id=\"edge47\" class=\"edge\">\n<title>ME 3017&#45;&gt;ME 4056</title>\n<path fill=\"none\" stroke=\"black\" d=\"M729.81,-231.04C782.55,-237.44 887.23,-243.67 965,-207 985.17,-197.49 1002.84,-179.52 1015.25,-164.3\"/>\n<polygon fill=\"black\" stroke=\"black\" points=\"1018.18,-166.23 1021.58,-156.2 1012.66,-161.92 1018.18,-166.23\"/>\n</g>\n<!-- ME 3017&#45;&gt;ME 4182 -->\n<g id=\"edge51\" class=\"edge\">\n<title>ME 3017&#45;&gt;ME 4182</title>\n<path fill=\"none\" stroke=\"black\" d=\"M729.59,-236.23C743.55,-240.41 760.01,-245.15 775,-249 858.77,-270.5 882.26,-265.83 965,-291 973.58,-293.61 982.61,-296.8 991.21,-300.07\"/>\n<polygon fill=\"black\" stroke=\"black\" points=\"990.09,-303.39 1000.68,-303.75 992.63,-296.86 990.09,-303.39\"/>\n</g>\n<!-- ME 3345&#45;&gt;ME 3057 -->\n<g id=\"edge36\" class=\"edge\">\n<title>ME 3345&#45;&gt;ME 3057</title>\n<path fill=\"none\" stroke=\"green\" d=\"M848.45,-130.04C861.75,-138.19 877.63,-147.92 891.82,-156.61\"/>\n<polygon fill=\"green\" stroke=\"green\" points=\"890.05,-159.63 900.41,-161.87 893.71,-153.66 890.05,-159.63\"/>\n</g>\n<!-- ME 3345&#45;&gt;ME 3180 -->\n<g id=\"edge41\" class=\"edge\">\n<title>ME 3345&#45;&gt;ME 3180</title>\n<path fill=\"none\" stroke=\"black\" d=\"M828.85,-130.28C848.43,-166.62 892.35,-248.12 915.33,-290.78\"/>\n<polygon fill=\"black\" stroke=\"black\" points=\"912.35,-292.62 920.17,-299.76 918.51,-289.3 912.35,-292.62\"/>\n</g>\n<!-- ME 3345&#45;&gt;ME 4056 -->\n<g id=\"edge46\" class=\"edge\">\n<title>ME 3345&#45;&gt;ME 4056</title>\n<path fill=\"none\" stroke=\"black\" d=\"M852.12,-116.01C889.37,-120.51 949.98,-127.84 990.89,-132.79\"/>\n<polygon fill=\"black\" stroke=\"black\" points=\"990.49,-136.26 1000.84,-133.99 991.33,-129.31 990.49,-136.26\"/>\n</g>\n<!-- ME 3057&#45;&gt;ME 4056 -->\n<g id=\"edge45\" class=\"edge\">\n<title>ME 3057&#45;&gt;ME 4056</title>\n<path fill=\"none\" stroke=\"black\" d=\"M965.12,-166.36C973.49,-162.92 982.6,-159.17 991.37,-155.55\"/>\n<polygon fill=\"black\" stroke=\"black\" points=\"992.79,-158.76 1000.7,-151.71 990.12,-152.28 992.79,-158.76\"/>\n</g>\n<!-- MATH 3670&#45;&gt;ME 3057 -->\n<g id=\"edge37\" class=\"edge\">\n<title>MATH 3670&#45;&gt;ME 3057</title>\n<path fill=\"none\" stroke=\"green\" d=\"M851.02,-76.21C854.6,-78.91 858.02,-81.86 861,-85 883.2,-108.39 877.23,-122.52 897,-148 898.63,-150.1 900.39,-152.19 902.22,-154.24\"/>\n<polygon fill=\"green\" stroke=\"green\" points=\"900.08,-157.07 909.51,-161.89 905.15,-152.24 900.08,-157.07\"/>\n</g>\n<!-- MATH 3670&#45;&gt;ME 4056 -->\n<g id=\"edge48\" class=\"edge\">\n<title>MATH 3670&#45;&gt;ME 4056</title>\n<path fill=\"none\" stroke=\"black\" d=\"M861.22,-73.71C898.72,-87.66 953.26,-107.96 990.99,-122\"/>\n<polygon fill=\"black\" stroke=\"black\" points=\"990.09,-125.4 1000.68,-125.6 992.53,-118.83 990.09,-125.4\"/>\n</g>\n<!-- MATH 3670&#45;&gt;ME 4182 -->\n<g id=\"edge52\" class=\"edge\">\n<title>MATH 3670&#45;&gt;ME 4182</title>\n<path fill=\"none\" stroke=\"black\" d=\"M848.23,-76.13C852.57,-79.01 856.95,-82.03 861,-85 877.79,-97.32 879.84,-103.2 897,-115 925.53,-134.61 941.95,-127.17 965,-153 1000.69,-192.99 1019.62,-254.08 1028.17,-289.63\"/>\n<polygon fill=\"black\" stroke=\"black\" points=\"1024.85,-290.82 1030.5,-299.79 1031.68,-289.26 1024.85,-290.82\"/>\n</g>\n<!-- ME 3180&#45;&gt;ME 4182 -->\n<g id=\"edge50\" class=\"edge\">\n<title>ME 3180&#45;&gt;ME 4182</title>\n<path fill=\"none\" stroke=\"black\" d=\"M965.12,-318C973.22,-318 982.02,-318 990.53,-318\"/>\n<polygon fill=\"black\" stroke=\"black\" points=\"990.7,-321.5 1000.7,-318 990.7,-314.5 990.7,-321.5\"/>\n</g>\n<!-- ME 3210&#45;&gt;ME 4182 -->\n<g id=\"edge49\" class=\"edge\">\n<title>ME 3210&#45;&gt;ME 4182</title>\n<path fill=\"none\" stroke=\"black\" d=\"M952.15,-391.82C967.66,-377.84 989.26,-358.35 1006.38,-342.91\"/>\n<polygon fill=\"black\" stroke=\"black\" points=\"1008.81,-345.44 1013.89,-336.14 1004.12,-340.24 1008.81,-345.44\"/>\n</g>\n<!-- Free Elective -->\n<g id=\"node36\" class=\"node\">\n<title>Free Elective</title>\n<path fill=\"#c7e9b4\" stroke=\"#c7e9b4\" d=\"M96.5,-633C96.5,-633 31.5,-633 31.5,-633 25.5,-633 19.5,-627 19.5,-621 19.5,-621 19.5,-609 19.5,-609 19.5,-603 25.5,-597 31.5,-597 31.5,-597 96.5,-597 96.5,-597 102.5,-597 108.5,-603 108.5,-609 108.5,-609 108.5,-621 108.5,-621 108.5,-627 102.5,-633 96.5,-633\"/>\n<text text-anchor=\"middle\" x=\"64\" y=\"-611.3\" font-family=\"Times,serif\" font-size=\"14.00\">Free Elective</text>\n</g>\n<!-- ME Elective -->\n<g id=\"node38\" class=\"node\">\n<title>ME Elective</title>\n<path fill=\"#c7e9b4\" stroke=\"#c7e9b4\" d=\"M95,-687C95,-687 33,-687 33,-687 27,-687 21,-681 21,-675 21,-675 21,-663 21,-663 21,-657 27,-651 33,-651 33,-651 95,-651 95,-651 101,-651 107,-657 107,-663 107,-663 107,-675 107,-675 107,-681 101,-687 95,-687\"/>\n<text text-anchor=\"middle\" x=\"64\" y=\"-665.3\" font-family=\"Times,serif\" font-size=\"14.00\">ME Elective</text>\n</g>\n<!-- Humanities Elective -->\n<g id=\"node39\" class=\"node\">\n<title>Humanities Elective</title>\n<path fill=\"#c7e9b4\" stroke=\"#c7e9b4\" d=\"M116,-741C116,-741 12,-741 12,-741 6,-741 0,-735 0,-729 0,-729 0,-717 0,-717 0,-711 6,-705 12,-705 12,-705 116,-705 116,-705 122,-705 128,-711 128,-717 128,-717 128,-729 128,-729 128,-735 122,-741 116,-741\"/>\n<text text-anchor=\"middle\" x=\"64\" y=\"-719.3\" font-family=\"Times,serif\" font-size=\"14.00\">Humanities Elective</text>\n</g>\n<!-- Ethics Overlay -->\n<g id=\"node40\" class=\"node\">\n<title>Ethics Overlay</title>\n<path fill=\"#c7e9b4\" stroke=\"#c7e9b4\" d=\"M101,-795C101,-795 27,-795 27,-795 21,-795 15,-789 15,-783 15,-783 15,-771 15,-771 15,-765 21,-759 27,-759 27,-759 101,-759 101,-759 107,-759 113,-765 113,-771 113,-771 113,-783 113,-783 113,-789 107,-795 101,-795\"/>\n<text text-anchor=\"middle\" x=\"64\" y=\"-773.3\" font-family=\"Times,serif\" font-size=\"14.00\">Ethics Overlay</text>\n</g>\n</g>\n</svg>\n",
      "text/plain": [
       "<graphviz.graphs.Digraph at 0x10cb74910>"
      ]
     },
     "execution_count": 34,
     "metadata": {},
     "output_type": "execute_result"
    }
   ],
   "source": [
    "get_map(curr)"
   ]
  },
  {
   "cell_type": "markdown",
   "metadata": {},
   "source": [
    "Question: will it output the same if the order of curriculum-dict is randomized?  \n",
    "\n",
    "Idea: Have recommended (default) — softly-enforced — rank (grad_sem) for humanities  \n",
    "\n",
    "Idea: Double circle = immediately doable. Diamond = capstone."
   ]
  },
  {
   "cell_type": "markdown",
   "metadata": {},
   "source": [
    "Color Scheme for the Future\n",
    "- (neon) green: immediately doable\n",
    "- (neon) purple: capstone\n",
    "- (neon) yellow: normal\n",
    "- (neon) blue: "
   ]
  },
  {
   "cell_type": "markdown",
   "metadata": {},
   "source": [
    "# Resources\n",
    "- [(og) graphviz documentation](https://graphviz.org/doc/info/attrs.html)\n",
    "- [regex101](https://regex101.com)\n",
    "- [pandas: indexing](https://pandas.pydata.org/docs/user_guide/indexing.html)"
   ]
  }
 ],
 "metadata": {
  "interpreter": {
   "hash": "b0fa6594d8f4cbf19f97940f81e996739fb7646882a419484c72d19e05852a7e"
  },
  "kernelspec": {
   "display_name": "Python 3.9.10 64-bit",
   "language": "python",
   "name": "python3"
  },
  "language_info": {
   "codemirror_mode": {
    "name": "ipython",
    "version": 3
   },
   "file_extension": ".py",
   "mimetype": "text/x-python",
   "name": "python",
   "nbconvert_exporter": "python",
   "pygments_lexer": "ipython3",
   "version": "3.9.10"
  },
  "orig_nbformat": 4
 },
 "nbformat": 4,
 "nbformat_minor": 2
}
