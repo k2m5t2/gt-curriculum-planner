{
 "cells": [
  {
   "cell_type": "markdown",
   "metadata": {},
   "source": [
    "# **Secondary Experiment**: Intro"
   ]
  },
  {
   "cell_type": "markdown",
   "metadata": {},
   "source": [
    "## Objectives\n",
    "- Data Representation & Structure\n",
    "  - Rich curriculum representation w/ year, immediacy, credit hours ✅\n",
    "    - possibly reverse-prerequisite. (calculation possibly trivial by utilizing immediacy — subtract from max of local capstone depths) 🆇\n",
    "  - Softly enforced rank rule for Graphviz 🆇\n",
    "    - make co-reqs [not add a new rank](https://stackoverflow.com/questions/22756929/graphviz-make-edges-not-affecting-the-hierarchy-of-nodes). ✅\n",
    "    - Free-standing course (or course couple): calculate average year of each rank (=column), get their average year, attach to closest match. 🆇\n",
    "      - Implementation difficulty: ?\n",
    "        - Is **fetching** rank possible? Or is graphviz an in-only interface. **Impossible in Python**\n",
    "          - try in d3-graphviz (`.data()` function)\n",
    "        - Should energy minimization, path-overlap minimization, and placement in-housed to be able to do this? 😭\n",
    "    - Sorting (year-by-year group) 🆇\n",
    "      - in the ideal case, courses will be compressed to where curriculum is 6-7 semesters long. \n",
    "      - then we start to de-compress it by using credit-hour calculations\n",
    "      - eventually need to give users the ability to manually adjust (drag) courses. \n",
    "        - no way I can implement that ...\n",
    "- Aesthetics\n",
    "  - decision: Do make use of gradient by immediacy. only capstone is special color. ✅\n",
    "    - Color according to completion ✅\n",
    "  - **title, credit hour label (honestly for dev as much as for users)** 🆇\n",
    "  - **make font work** 🆇\n",
    "- Interactivity (where we left off in preliminary experiment) ✅\n",
    "  - completion-aware graph drawing ✅"
   ]
  },
  {
   "cell_type": "markdown",
   "metadata": {},
   "source": [
    "### Coming Up"
   ]
  },
  {
   "cell_type": "markdown",
   "metadata": {},
   "source": [
    "- Course & pre-requisite database pulled from OSCAR/GT-Scheduler/Degreeworks\n",
    "  - Option 1: Interactive editor / administrator page\n",
    "  - Option 2: Richer curriculum representation in Excel (options functionality)\n",
    "    - whole system (may) need to accommodate this: Humanities are redundant so dict may not be best, etc\n",
    "- In final UI, users are able to know whether courses are available in the given semester or not by using OSCAR info. \n",
    "  - i.e., can choose lorraine to learn that it's available. or check historical availability patterns.\n",
    "  - if they include summer, then following assumed semesters move along together"
   ]
  },
  {
   "cell_type": "markdown",
   "metadata": {},
   "source": [
    "# 0. Setup"
   ]
  },
  {
   "cell_type": "code",
   "execution_count": 1,
   "metadata": {},
   "outputs": [],
   "source": [
    "import pandas as pd\n",
    "import numpy as np\n",
    "\n",
    "filename = 'me.csv'\n",
    "\n",
    "df = pd.read_csv(filename)"
   ]
  },
  {
   "cell_type": "code",
   "execution_count": 2,
   "metadata": {},
   "outputs": [],
   "source": [
    "# regex-based string -> list conversion\n",
    "import re\n",
    "\n",
    "curriculum = {}\n",
    "\n",
    "# immediate explicit pre-requisites\n",
    "for i in range(df.shape[0]):\n",
    "    if pd.isna(df.iloc[i,0]): # NaN\n",
    "        curriculum[df.iloc[i,1]] = []\n",
    "    else: # pre-reqs exist. put them into list\n",
    "        curriculum[df.iloc[i,1]] = re.split('\\, ', df.iloc[i,0]) "
   ]
  },
  {
   "cell_type": "code",
   "execution_count": 3,
   "metadata": {},
   "outputs": [],
   "source": [
    "verbose = True # DEBUG\n",
    "really_verbose = False # DEBUG\n",
    "\n",
    "def treeshake(curriculum):\n",
    "    curr = curriculum.copy()\n",
    "    \n",
    "    # iterate over each course in curriculum\n",
    "    for course, pre_reqs in curriculum.items():\n",
    "        if really_verbose: print('new case:', course) # DEBUG\n",
    "        \n",
    "        # introductory course\n",
    "        if not pre_reqs: continue\n",
    "\n",
    "        # set of implicit prerequisites\n",
    "        seen = set()\n",
    "\n",
    "        # fetch implicit prerequisite (depth 1)\n",
    "        for (idx, explicit) in enumerate(pre_reqs):\n",
    "            # handle co-req \n",
    "            exp = explicit[:-1] if explicit[-1] == '*' else explicit\n",
    "\n",
    "            # introductory explicit\n",
    "            if not curr[exp]: continue \n",
    "            # important to keep this line. removing this breaks the whole thing\n",
    "\n",
    "            # \n",
    "            for (jdx, implicit) in enumerate(curr[exp]):\n",
    "                # if idx == jdx: continue # unsure if necessary / helpful. TEST BOTH WAYS.\n",
    "                # if candidate not in seen:  # Note: doesn't seem necessary because set is unique anyway.\n",
    "                seen.add(implicit)\n",
    "                    # curriculum[course].pop(idx)\n",
    "        \n",
    "        if really_verbose and seen: print('implicit:', seen)\n",
    "        # if an implicit prerequisite is made explicit (redundancy), remove the explicit.\n",
    "        for (idx, target) in enumerate(pre_reqs):\n",
    "            if target in seen: \n",
    "                curr[course].pop(idx)\n",
    "                if verbose: print('DELETED:', target, 'from', course)\n",
    "\n",
    "    return curr"
   ]
  },
  {
   "cell_type": "code",
   "execution_count": 4,
   "metadata": {},
   "outputs": [
    {
     "name": "stdout",
     "output_type": "stream",
     "text": [
      "DELETED: MATH 1551\n",
      "DELETED: MATH 1552\n",
      "DELETED: MATH 2552\n",
      "DELETED: MATH 2552\n",
      "DELETED: ME 3340\n",
      "DELETED: ME 3345\n",
      "DELETED: COE 3001\n"
     ]
    }
   ],
   "source": [
    "simple_curr = treeshake(curriculum)"
   ]
  },
  {
   "cell_type": "markdown",
   "metadata": {},
   "source": [
    "# **1. Data Representation & Graph Structure**"
   ]
  },
  {
   "cell_type": "code",
   "execution_count": 6,
   "metadata": {},
   "outputs": [],
   "source": [
    "def infer_year(name):\n",
    "    searched = re.search(\"\\ [0-9]\", name)\n",
    "    if searched: return int(searched.group()[1]) # the second char of search result"
   ]
  },
  {
   "cell_type": "code",
   "execution_count": 7,
   "metadata": {},
   "outputs": [],
   "source": [
    "def calc_immediacy(name): # recursive AND divergent. gonna be a memory hog.\n",
    "    # if completed, return 0 (here because of optimization)\n",
    "    if curr[name]['done']: return 0 # colorscheme is 1-indexed. a hack. but hard otherwise because of string casting. \n",
    "\n",
    "    # if no pre-req, return 0\n",
    "    prereqs = curr[name]['prqs']\n",
    "    if not prereqs: return 0 # see note above # delete both of these note of this line returns 0\n",
    "\n",
    "    a = [] # dumb name?\n",
    "    for prereq in prereqs: \n",
    "        # does co-req mess up immediacy calculation? or cause infinite loops?\n",
    "        if prereq[-1]=='*': a.append(calc_immediacy(prereq[:-1]) + 1) \n",
    "        else: a.append(calc_immediacy(prereq) + 1) \n",
    "\n",
    "    return max(a)"
   ]
  },
  {
   "cell_type": "markdown",
   "metadata": {},
   "source": [
    "Possible optimization: initialize immediacy to None. Note that we iteratively compute immediacies. If all explicit pre-reqs confronted by a higher-up class has already been determined (i.e., not None but rather 0/1/2/3...), then go ahead and take the max rather than recursing all the way through zero depth. This way, compute time increases linearly not quadratically (though there still are inefficients because we're using conditionals)."
   ]
  },
  {
   "cell_type": "code",
   "execution_count": 8,
   "metadata": {},
   "outputs": [],
   "source": [
    "curr = {}\n",
    "\n",
    "for course, item in simple_curr.items():\n",
    "    curr[course] = {}\n",
    "    curr[course]['prqs'] = item\n",
    "    curr[course]['year'] = infer_year(course)\n",
    "    curr[course]['done'] = False\n",
    "\n",
    "for course, item in simple_curr.items():\n",
    "    curr[course]['immediacy'] = calc_immediacy(course)"
   ]
  },
  {
   "cell_type": "code",
   "execution_count": 9,
   "metadata": {},
   "outputs": [
    {
     "data": {
      "text/plain": [
       "{'CHEM 1310': {'prqs': [], 'year': 1, 'done': False, 'immediacy': 0},\n",
       " 'MATH 1551': {'prqs': [], 'year': 1, 'done': False, 'immediacy': 0},\n",
       " 'MATH 1553': {'prqs': [], 'year': 1, 'done': False, 'immediacy': 0},\n",
       " 'Legislative': {'prqs': [], 'year': None, 'done': False, 'immediacy': 0},\n",
       " 'ENGL 1101': {'prqs': [], 'year': 1, 'done': False, 'immediacy': 0},\n",
       " 'Wellness': {'prqs': [], 'year': None, 'done': False, 'immediacy': 0},\n",
       " 'PHYS 2211': {'prqs': ['MATH 1552*'],\n",
       "  'year': 2,\n",
       "  'done': False,\n",
       "  'immediacy': 2},\n",
       " 'MATH 1552': {'prqs': ['MATH 1551'],\n",
       "  'year': 1,\n",
       "  'done': False,\n",
       "  'immediacy': 1},\n",
       " 'CS 1371': {'prqs': [], 'year': 1, 'done': False, 'immediacy': 0},\n",
       " 'ME 1670': {'prqs': [], 'year': 1, 'done': False, 'immediacy': 0},\n",
       " 'ENGL 1102': {'prqs': ['ENGL 1101'],\n",
       "  'year': 1,\n",
       "  'done': False,\n",
       "  'immediacy': 1},\n",
       " 'PHYS 2212': {'prqs': ['PHYS 2211'],\n",
       "  'year': 2,\n",
       "  'done': False,\n",
       "  'immediacy': 3},\n",
       " 'MATH 2551': {'prqs': ['MATH 1552', 'MATH 1553'],\n",
       "  'year': 2,\n",
       "  'done': False,\n",
       "  'immediacy': 2},\n",
       " 'ME 2110': {'prqs': ['ME 1670', 'COE 2001'],\n",
       "  'year': 2,\n",
       "  'done': False,\n",
       "  'immediacy': 4},\n",
       " 'MSE 2001': {'prqs': ['CHEM 1310'], 'year': 2, 'done': False, 'immediacy': 1},\n",
       " 'COE 2001': {'prqs': ['MATH 1552', 'PHYS 2211'],\n",
       "  'year': 2,\n",
       "  'done': False,\n",
       "  'immediacy': 3},\n",
       " 'ECE 3710': {'prqs': ['PHYS 2212'], 'year': 3, 'done': False, 'immediacy': 4},\n",
       " 'MATH 2552': {'prqs': ['MATH 1552', 'MATH 1553'],\n",
       "  'year': 2,\n",
       "  'done': False,\n",
       "  'immediacy': 2},\n",
       " 'ME 2016': {'prqs': ['MATH 1553', 'MATH 2552*', 'CS 1371'],\n",
       "  'year': 2,\n",
       "  'done': False,\n",
       "  'immediacy': 3},\n",
       " 'ME 2202': {'prqs': ['COE 2001', 'MATH 1553*'],\n",
       "  'year': 2,\n",
       "  'done': False,\n",
       "  'immediacy': 4},\n",
       " 'Social Science': {'prqs': [], 'year': None, 'done': False, 'immediacy': 0},\n",
       " 'ECE 3741': {'prqs': ['ECE 3710'], 'year': 3, 'done': False, 'immediacy': 5},\n",
       " 'COE 3001': {'prqs': ['COE 2001', 'MATH 2552*'],\n",
       "  'year': 3,\n",
       "  'done': False,\n",
       "  'immediacy': 4},\n",
       " 'ME 3322': {'prqs': ['PHYS 2211', 'MATH 2552'],\n",
       "  'year': 3,\n",
       "  'done': False,\n",
       "  'immediacy': 3},\n",
       " 'ME 3340': {'prqs': ['ME 2202', 'MATH 2551', 'ME 3322*'],\n",
       "  'year': 3,\n",
       "  'done': False,\n",
       "  'immediacy': 5},\n",
       " 'ECON 2001': {'prqs': [], 'year': 2, 'done': False, 'immediacy': 0},\n",
       " 'Humanities': {'prqs': [], 'year': None, 'done': False, 'immediacy': 0},\n",
       " 'ME 3017': {'prqs': ['ME 2202', 'ME 2016', 'MATH 2552', 'ECE 3710'],\n",
       "  'year': 3,\n",
       "  'done': False,\n",
       "  'immediacy': 5},\n",
       " 'ME 3345': {'prqs': ['ME 3322', 'ME 3340'],\n",
       "  'year': 3,\n",
       "  'done': False,\n",
       "  'immediacy': 6},\n",
       " 'ME 3057': {'prqs': ['COE 3001', 'ME 3017*', 'ME 3345*', 'MATH 3670*'],\n",
       "  'year': 3,\n",
       "  'done': False,\n",
       "  'immediacy': 7},\n",
       " 'ISYE 3025': {'prqs': ['ECON 2001'],\n",
       "  'year': 3,\n",
       "  'done': False,\n",
       "  'immediacy': 1},\n",
       " 'MATH 3670': {'prqs': ['MATH 2551'],\n",
       "  'year': 3,\n",
       "  'done': False,\n",
       "  'immediacy': 3},\n",
       " 'ME 3180': {'prqs': ['ME 2110', 'ME 3345'],\n",
       "  'year': 3,\n",
       "  'done': False,\n",
       "  'immediacy': 7},\n",
       " 'ME 3210': {'prqs': ['MSE 2001', 'ME 2110', 'COE 3001'],\n",
       "  'year': 3,\n",
       "  'done': False,\n",
       "  'immediacy': 5},\n",
       " 'ME 4056': {'prqs': ['ME 3057', 'ME 3345', 'ME 3017', 'MATH 3670'],\n",
       "  'year': 4,\n",
       "  'done': False,\n",
       "  'immediacy': 8},\n",
       " 'Free Elective': {'prqs': [], 'year': None, 'done': False, 'immediacy': 0},\n",
       " 'ME 4182': {'prqs': ['ME 3210', 'ME 3180', 'ME 3017', 'MATH 3670', 'ME 2110'],\n",
       "  'year': 4,\n",
       "  'done': False,\n",
       "  'immediacy': 8},\n",
       " 'ME Elective': {'prqs': [], 'year': None, 'done': False, 'immediacy': 0},\n",
       " 'Humanities Elective': {'prqs': [],\n",
       "  'year': None,\n",
       "  'done': False,\n",
       "  'immediacy': 0},\n",
       " 'Ethics Overlay': {'prqs': [], 'year': None, 'done': False, 'immediacy': 0}}"
      ]
     },
     "execution_count": 9,
     "metadata": {},
     "output_type": "execute_result"
    }
   ],
   "source": [
    "curr"
   ]
  },
  {
   "cell_type": "markdown",
   "metadata": {},
   "source": [
    "# **2. Aesthetics**"
   ]
  },
  {
   "cell_type": "markdown",
   "metadata": {},
   "source": [
    "Design References:\n",
    "- [Black/white, modern, great use of thickness and scale](https://graphviz.org/Gallery/directed/psg.svg)\n",
    "\n"
   ]
  },
  {
   "cell_type": "markdown",
   "metadata": {},
   "source": [
    "Thinking about UI\n",
    "- Mouseover → highlight relevant incoming, outgoing pre-reqs"
   ]
  },
  {
   "cell_type": "markdown",
   "metadata": {},
   "source": [
    "## **2.1. Colors**"
   ]
  },
  {
   "cell_type": "markdown",
   "metadata": {},
   "source": [
    "**Resources**\n",
    "- [Color Converter](https://convertingcolors.com/rgb-color-92_87_120.html?search=RGB(92,%2087,%20120))\n",
    "\n",
    "**OG Graphviz Documentation**\n",
    "- [Background Color](https://graphviz.org/docs/attrs/bgcolor/)\n",
    "- [Color](https://graphviz.org/docs/attr-types/color/)\n",
    "- [Border/Fill Color](https://stackoverflow.com/questions/9106079/graphviz-how-to-change-border-color)\n",
    "\n",
    "**Python-specific Graphviz Documentation**\n",
    "- [Read the Docs](https://graphviz.readthedocs.io/en/stable/index.html)"
   ]
  },
  {
   "cell_type": "markdown",
   "metadata": {},
   "source": [
    "**To-Do**\n",
    "- Arrow thickness, brightness optimization"
   ]
  },
  {
   "cell_type": "code",
   "execution_count": 10,
   "metadata": {},
   "outputs": [],
   "source": [
    "# color utils\n",
    "\n",
    "def rgb_to_hex(rgb):\n",
    "    return '%02x%02x%02x' % rgb\n",
    "\n",
    "# rgb_to_hex((255, 255, 195)) # test\n",
    "\n",
    "def hex_to_rgb(value):\n",
    "    value = value.lstrip('#')\n",
    "    return tuple(int(value[i:i+2], 16) for i in range(0, 6, 2))\n",
    "\n",
    "# hex_to_rgb(\"FF65BA\") # test\n",
    "\n",
    "def glow(base, highlight):\n",
    "    # need to mix color so that highlight is weaker — something like 0.2\n",
    "\n",
    "    hw = 0.35  # highlight weight\n",
    "    bw = 1-hw # base weight\n",
    "\n",
    "    r,g,b = hex_to_rgb(base)\n",
    "    u,v,w = hex_to_rgb(highlight)\n",
    "    r,g,b = (int(bw*r+hw*u), int(bw*g+hw*v), int(bw*b+hw*w))\n",
    "\n",
    "    hl = '#' + rgb_to_hex((r,g,b)).upper()\n",
    "\n",
    "    return base+';'+'0.9:'+hl \n",
    "    # the number doesn't matter when doing radial. i think. at least when only with two numbers -> only two number is possible.\n",
    "\n",
    "# test line?"
   ]
  },
  {
   "cell_type": "code",
   "execution_count": 11,
   "metadata": {},
   "outputs": [],
   "source": [
    "'''COLOR BANK'''\n",
    "# not perfect. let's keep improving.\n",
    "\n",
    "# backgrounds\n",
    "base = '#2A2556'\n",
    "base_dark = '#101C4D'\n",
    "nodebg = '#333163'\n",
    "\n",
    "# bright things\n",
    "font = '#F5EEE8'\n",
    "arrow = '#AFABB4' # '#9B97BA' # '#827EA0'\n",
    "# weakwhite = #827EA0 # maybe.\n",
    "\n",
    "# colorful things\n",
    "green = '#ADB766'\n",
    "# yellow = \n",
    "orange = '#AB706E'\n",
    "lightblue = '#89AFA3'\n",
    "blue = '#497797'"
   ]
  },
  {
   "cell_type": "code",
   "execution_count": 12,
   "metadata": {},
   "outputs": [],
   "source": [
    "import graphviz"
   ]
  },
  {
   "cell_type": "code",
   "execution_count": 13,
   "metadata": {},
   "outputs": [],
   "source": [
    "def get_graph():\n",
    "    # graph\n",
    "    c = graphviz.Digraph('Curriculum') # format='jpg' # filename='process.gv'\n",
    "    c.attr(rankdir='LR') # make this horizontal. (important)\n",
    "    c.attr(style='radial')\n",
    "    c.attr(bgcolor=base+';0.5:'+base_dark) # DEBUG\n",
    "    c.attr(fontname='Helvetica') # DOESN'T WORK. Why?\n",
    "\n",
    "    # node defaults\n",
    "    c.node_attr['shape'] = 'box'\n",
    "    c.node_attr['style'] = 'rounded, filled, radial'\n",
    "    # border\n",
    "    c.node_attr['color'] = orange\n",
    "    c.node_attr['penwidth'] = '2.5'\n",
    "    c.node_attr['colorscheme']='ylgnbu9' # colorbrewer scheme\n",
    "    # fill\n",
    "    c.node_attr['fillcolor'] = glow(base_dark, orange) # '#333163' # '#292759' # DEBUG\n",
    "    # font\n",
    "    c.node_attr['fontcolor'] = font\n",
    "    c.node_attr['fontsize'] = '12'\n",
    "\n",
    "    # edge defaults\n",
    "    c.edge_attr['color'] = arrow # arrow # arrow color\n",
    "    c.edge_attr['arrowsize'] = '0.75'\n",
    "\n",
    "    return c"
   ]
  },
  {
   "cell_type": "code",
   "execution_count": 14,
   "metadata": {},
   "outputs": [],
   "source": [
    "def draw_scheme(curriculum):\n",
    "    # TODO: add outlines to edge\n",
    "    # gonna be a good idea to implement colorscheme darkmode (colored borders only)!\n",
    "    \n",
    "    # GRAPH\n",
    "    c = graphviz.Digraph('Curriculum') # filename='process.gv'\n",
    "    c.attr(rankdir='LR') # horizontal (important)\n",
    "\n",
    "    # node defaults\n",
    "    c.node_attr['shape'] = 'box'\n",
    "    c.node_attr['style'] = 'rounded, filled, radial'\n",
    "    c.node_attr['colorscheme']= 'spectral11' # 'ylgnbu9' # colorbrewer scheme\n",
    "    offset = 3\n",
    "    # border\n",
    "    c.node_attr['color'] = 'black'\n",
    "    c.node_attr['penwidth'] = '1.5'\n",
    "    # font\n",
    "    c.node_attr['fontsize'] = '12'\n",
    "\n",
    "\n",
    "    # edge defaults\n",
    "    # c.edge_attr['color'] # UNIQUE\n",
    "    c.edge_attr['arrowsize'] = '0.65'\n",
    "    c.edge_attr['colorscheme']= 'spectral11' # 'ylgnbu9' # colorbrewer scheme\n",
    "    c.edge_attr['penwidth'] = '3'\n",
    "    # irrelevant parameters were pruned; fetch original @ draw_normal\n",
    "\n",
    "    # DRAWING\n",
    "\n",
    "    # iterate upon each course\n",
    "    for course, content in curriculum.items():\n",
    "        prqs, year, done, imme = list(content.values()) # i love dicts\n",
    "        # print(course, prqs, year, done, imme) # DEBUG\n",
    "\n",
    "        # done (i.e., not drawn)\n",
    "        if done: continue\n",
    "\n",
    "        # make the node!\n",
    "        c.node(course, fillcolor=str(imme+offset))\n",
    "\n",
    "        # introductory (i.e., no pre-req)\n",
    "        if not prqs: continue\n",
    "\n",
    "        # has pre-reqs\n",
    "        else:\n",
    "            for prq in prqs:\n",
    "        \n",
    "                # co-req\n",
    "                if prq[-1] == '*': \n",
    "                    # Note: I'd love to make an alias of prq here with * removed, but I'm worried about mutation.\n",
    "                    # c.node(prq[:-1], color=str(imme+1))\n",
    "                    if curriculum[prq[:-1]]['done']: continue\n",
    "                    c.edge(prq[:-1], course, constraint='false', color=str(imme+offset), style='dashed')\n",
    "                \n",
    "                # pre-req\n",
    "                else: \n",
    "                    # c.node(prq, color=str(imme+1))\n",
    "                    if curriculum[prq]['done']: continue\n",
    "                    c.edge(prq, course, color=str(imme+offset), style='solid')\n",
    "\n",
    "    c.render(filename='dots/g4.gv')\n",
    "    \n",
    "    return c\n",
    "\n",
    "# draw_scheme(curr)"
   ]
  },
  {
   "cell_type": "code",
   "execution_count": 15,
   "metadata": {},
   "outputs": [],
   "source": [
    "def draw_normal(curriculum):\n",
    "    \n",
    "    c = get_graph()\n",
    "\n",
    "    # iterate upon each course\n",
    "    for course, content in curriculum.items():\n",
    "        prqs, year, done, imme = content['prqs'], content['year'], content['done'], content['immediacy'] # what a hack.\n",
    "        # print(course, prqs, year, done, imme) # DEBUG\n",
    "    \n",
    "        c.node(course, color=str(imme+1)) # fillcolor=glow(base_dark, green))\n",
    "\n",
    "\n",
    "        # introductory course\n",
    "        if not prqs: continue\n",
    "            # ensures that introductory courses exist\n",
    "        \n",
    "\n",
    "        # has pre-reqs\n",
    "        else:\n",
    "            for prq in prqs:\n",
    "        \n",
    "                # co-req\n",
    "                if prq[-1] == '*': \n",
    "                    # c.node(prq[:-1], color=str(imme+1))\n",
    "                    c.edge(prq[:-1], course, color=lightblue)\n",
    "                \n",
    "                # pre-req\n",
    "                else: \n",
    "                    # c.node(prq, color=str(imme+1))\n",
    "                    c.edge(prq, course)\n",
    "    return c"
   ]
  },
  {
   "cell_type": "markdown",
   "metadata": {},
   "source": [
    "# **3. Interactivity**"
   ]
  },
  {
   "cell_type": "code",
   "execution_count": 16,
   "metadata": {},
   "outputs": [],
   "source": [
    "from ipywidgets import widgets\n",
    "from IPython.display import display"
   ]
  },
  {
   "cell_type": "markdown",
   "metadata": {},
   "source": [
    "> Keep this as list or make it dict? 🤔 Considering case of curriculum deviation (where user's taken non-degree-counting courses) and scalability (dict faster), **dict** it is."
   ]
  },
  {
   "cell_type": "code",
   "execution_count": 17,
   "metadata": {},
   "outputs": [],
   "source": [
    "# Nx4 matrix(?) of checkboxes representing completed courses\n",
    "completion = {} \n",
    "for course in curr.keys(): completion[course] = widgets.Checkbox(description=course)\n",
    "width = 4; height = len(completion)//width+1 # boundary case ain't perfect but still\n",
    "columns = []\n",
    "for i in range(width): columns.append(widgets.VBox(list(completion.values())[height*i:height*(i+1)])) # saturate the columns\n",
    "hbox = widgets.HBox([*columns]) # dot operator unpacks an iterable\n",
    "# button: apply checkbox state to curr\n",
    "button = widgets.Button(description='Apply Changes', button_style='info', icon='check'); \n",
    "\n",
    "def apply_completion(button): # mutable. trivial.\n",
    "    for course, content in curr.items():\n",
    "        content['done'] = completion[course].value\n",
    "\n",
    "button.on_click(apply_completion)"
   ]
  },
  {
   "cell_type": "code",
   "execution_count": 18,
   "metadata": {},
   "outputs": [],
   "source": [
    "# display(widgets.VBox([widgets.Label('Check your completed courses.'), hbox, button]))"
   ]
  },
  {
   "cell_type": "markdown",
   "metadata": {},
   "source": [
    "[Fuck Jupyter...](https://gist.github.com/pbugnion/5bb7878ff212a0116f0f1fbc9f431a5c) Switching to Colab a good idea? Nevermind, Jupyter good... **Still switch to Colab?**"
   ]
  },
  {
   "cell_type": "markdown",
   "metadata": {},
   "source": [
    "**`complete_course()`**\n",
    "\n",
    "Let's make it non-mutable. Nah let's make it mutable.\n",
    "\n",
    "Pseudocode:\n",
    "- if a completed course is within curriculum, find and delete all occurrence of it as a pre-req.\n",
    "- if it has a pre-req (not a co-req), delete all of its pre-reqs too."
   ]
  },
  {
   "cell_type": "markdown",
   "metadata": {},
   "source": [
    "# **A. Output Screen**"
   ]
  },
  {
   "cell_type": "code",
   "execution_count": 19,
   "metadata": {},
   "outputs": [],
   "source": [
    "# curr"
   ]
  },
  {
   "cell_type": "code",
   "execution_count": 20,
   "metadata": {},
   "outputs": [
    {
     "data": {
      "application/vnd.jupyter.widget-view+json": {
       "model_id": "de63be526e2d4019af280ea3a3fadc13",
       "version_major": 2,
       "version_minor": 0
      },
      "text/plain": [
       "VBox(children=(Label(value='Check your completed courses.'), HBox(children=(VBox(children=(Checkbox(value=Fals…"
      ]
     },
     "metadata": {},
     "output_type": "display_data"
    }
   ],
   "source": [
    "display(widgets.VBox([widgets.Label('Check your completed courses.'), hbox, button]))"
   ]
  },
  {
   "cell_type": "code",
   "execution_count": 21,
   "metadata": {},
   "outputs": [],
   "source": [
    "gv = draw_scheme(curr)"
   ]
  }
 ],
 "metadata": {
  "interpreter": {
   "hash": "b0fa6594d8f4cbf19f97940f81e996739fb7646882a419484c72d19e05852a7e"
  },
  "kernelspec": {
   "display_name": "Python 3.9.10 64-bit",
   "language": "python",
   "name": "python3"
  },
  "language_info": {
   "codemirror_mode": {
    "name": "ipython",
    "version": 3
   },
   "file_extension": ".py",
   "mimetype": "text/x-python",
   "name": "python",
   "nbconvert_exporter": "python",
   "pygments_lexer": "ipython3",
   "version": "3.9.10"
  },
  "orig_nbformat": 4
 },
 "nbformat": 4,
 "nbformat_minor": 2
}
