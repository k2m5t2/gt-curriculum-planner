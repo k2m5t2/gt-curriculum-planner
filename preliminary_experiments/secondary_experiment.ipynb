{
 "cells": [
  {
   "cell_type": "markdown",
   "metadata": {},
   "source": [
    "# **Secondary Experiment**: Intro"
   ]
  },
  {
   "cell_type": "markdown",
   "metadata": {},
   "source": [
    "## Objectives\n",
    "- Data Representation & Structure\n",
    "  - Rich curriculum representation w/ year, immediacy, credit hours ✅\n",
    "    - possibly reverse-prerequisite. (calculation possibly trivial by utilizing immediacy — subtract from max of local capstone depths) 🆇\n",
    "  - Softly enforced rank rule for Graphviz 🆇\n",
    "    - make co-reqs [not add a new rank](https://stackoverflow.com/questions/22756929/graphviz-make-edges-not-affecting-the-hierarchy-of-nodes). ✅\n",
    "    - Free-standing course (or course couple): calculate average year of each rank (=column), get their average year, attach to closest match. 🆇\n",
    "      - Implementation difficulty: ?\n",
    "        - Is **fetching** rank possible? Or is graphviz an in-only interface. **Impossible in Python**\n",
    "          - try in d3-graphviz (`.data()` function)\n",
    "        - Should energy minimization, path-overlap minimization, and placement in-housed to be able to do this? 😭\n",
    "    - Sorting (year-by-year group) 🆇\n",
    "      - in the ideal case, courses will be compressed to where curriculum is 6-7 semesters long. \n",
    "      - then we start to de-compress it by using credit-hour calculations\n",
    "      - eventually need to give users the ability to manually adjust (drag) courses. \n",
    "        - no way I can implement that ...\n",
    "- Aesthetics\n",
    "  - decision: Do make use of gradient by immediacy. only capstone is special color. ✅\n",
    "    - Color according to completion ✅\n",
    "  - **title, credit hour label (honestly for dev as much as for users)** 🆇\n",
    "  - **make font work** 🆇\n",
    "- Interactivity (where we left off in preliminary experiment) ✅\n",
    "  - completion-aware graph drawing ✅"
   ]
  },
  {
   "cell_type": "markdown",
   "metadata": {},
   "source": [
    "### Coming Up"
   ]
  },
  {
   "cell_type": "markdown",
   "metadata": {},
   "source": [
    "- Course & pre-requisite database pulled from OSCAR/GT-Scheduler/Degreeworks\n",
    "  - Option 1: Interactive editor / administrator page\n",
    "  - Option 2: Richer curriculum representation in Excel (options functionality)\n",
    "    - whole system (may) need to accommodate this: Humanities are redundant so dict may not be best, etc\n",
    "- In final UI, users are able to know whether courses are available in the given semester or not by using OSCAR info. \n",
    "  - i.e., can choose lorraine to learn that it's available. or check historical availability patterns.\n",
    "  - if they include summer, then following assumed semesters move along together"
   ]
  },
  {
   "cell_type": "markdown",
   "metadata": {},
   "source": [
    "# 0. Setup"
   ]
  },
  {
   "cell_type": "code",
   "execution_count": 10,
   "metadata": {},
   "outputs": [],
   "source": [
    "import pandas as pd\n",
    "import numpy as np\n",
    "\n",
    "filename = 'cs.csv'\n",
    "\n",
    "df = pd.read_csv(filename)"
   ]
  },
  {
   "cell_type": "code",
   "execution_count": 11,
   "metadata": {},
   "outputs": [],
   "source": [
    "# regex-based string -> list conversion\n",
    "import re\n",
    "\n",
    "curriculum = {}\n",
    "\n",
    "# immediate explicit pre-requisites\n",
    "for i in range(df.shape[0]):\n",
    "    if pd.isna(df.iloc[i,1]): # NaN\n",
    "        curriculum[df.iloc[i,0]] = []\n",
    "    else: # pre-reqs exist. put them into list\n",
    "        curriculum[df.iloc[i,0]] = re.split('\\, ', df.iloc[i,1])"
   ]
  },
  {
   "cell_type": "code",
   "execution_count": 12,
   "metadata": {},
   "outputs": [
    {
     "data": {
      "text/html": [
       "<div>\n",
       "<style scoped>\n",
       "    .dataframe tbody tr th:only-of-type {\n",
       "        vertical-align: middle;\n",
       "    }\n",
       "\n",
       "    .dataframe tbody tr th {\n",
       "        vertical-align: top;\n",
       "    }\n",
       "\n",
       "    .dataframe thead th {\n",
       "        text-align: right;\n",
       "    }\n",
       "</style>\n",
       "<table border=\"1\" class=\"dataframe\">\n",
       "  <thead>\n",
       "    <tr style=\"text-align: right;\">\n",
       "      <th></th>\n",
       "      <th>course name</th>\n",
       "      <th>explicit pre-requisites</th>\n",
       "      <th>credit hours</th>\n",
       "      <th>recommended year</th>\n",
       "    </tr>\n",
       "  </thead>\n",
       "  <tbody>\n",
       "    <tr>\n",
       "      <th>0</th>\n",
       "      <td>Wellness</td>\n",
       "      <td>NaN</td>\n",
       "      <td>2</td>\n",
       "      <td>1</td>\n",
       "    </tr>\n",
       "    <tr>\n",
       "      <th>1</th>\n",
       "      <td>ENGL 1101</td>\n",
       "      <td>NaN</td>\n",
       "      <td>3</td>\n",
       "      <td>1</td>\n",
       "    </tr>\n",
       "    <tr>\n",
       "      <th>2</th>\n",
       "      <td>ENGL 1102</td>\n",
       "      <td>ENGL 1101</td>\n",
       "      <td>3</td>\n",
       "      <td>1</td>\n",
       "    </tr>\n",
       "    <tr>\n",
       "      <th>3</th>\n",
       "      <td>MATH 1552</td>\n",
       "      <td>NaN</td>\n",
       "      <td>4</td>\n",
       "      <td>1</td>\n",
       "    </tr>\n",
       "    <tr>\n",
       "      <th>4</th>\n",
       "      <td>CS 1301</td>\n",
       "      <td>NaN</td>\n",
       "      <td>3</td>\n",
       "      <td>1</td>\n",
       "    </tr>\n",
       "    <tr>\n",
       "      <th>5</th>\n",
       "      <td>Humanities</td>\n",
       "      <td>NaN</td>\n",
       "      <td>3</td>\n",
       "      <td>2</td>\n",
       "    </tr>\n",
       "    <tr>\n",
       "      <th>6</th>\n",
       "      <td>PHYS 2211</td>\n",
       "      <td>NaN</td>\n",
       "      <td>4</td>\n",
       "      <td>1</td>\n",
       "    </tr>\n",
       "    <tr>\n",
       "      <th>7</th>\n",
       "      <td>Lab Science</td>\n",
       "      <td>NaN</td>\n",
       "      <td>4</td>\n",
       "      <td>2</td>\n",
       "    </tr>\n",
       "    <tr>\n",
       "      <th>8</th>\n",
       "      <td>MATH 1551</td>\n",
       "      <td>NaN</td>\n",
       "      <td>2</td>\n",
       "      <td>1</td>\n",
       "    </tr>\n",
       "    <tr>\n",
       "      <th>9</th>\n",
       "      <td>MATH 1554</td>\n",
       "      <td>MATH 1552</td>\n",
       "      <td>4</td>\n",
       "      <td>2</td>\n",
       "    </tr>\n",
       "    <tr>\n",
       "      <th>10</th>\n",
       "      <td>History</td>\n",
       "      <td>NaN</td>\n",
       "      <td>3</td>\n",
       "      <td>1</td>\n",
       "    </tr>\n",
       "    <tr>\n",
       "      <th>11</th>\n",
       "      <td>Social Science</td>\n",
       "      <td>NaN</td>\n",
       "      <td>3</td>\n",
       "      <td>1</td>\n",
       "    </tr>\n",
       "    <tr>\n",
       "      <th>12</th>\n",
       "      <td>PSYC 1101</td>\n",
       "      <td>NaN</td>\n",
       "      <td>3</td>\n",
       "      <td>2</td>\n",
       "    </tr>\n",
       "    <tr>\n",
       "      <th>13</th>\n",
       "      <td>CS 1100</td>\n",
       "      <td>NaN</td>\n",
       "      <td>1</td>\n",
       "      <td>1</td>\n",
       "    </tr>\n",
       "    <tr>\n",
       "      <th>14</th>\n",
       "      <td>CS 2050</td>\n",
       "      <td>NaN</td>\n",
       "      <td>3</td>\n",
       "      <td>2</td>\n",
       "    </tr>\n",
       "    <tr>\n",
       "      <th>15</th>\n",
       "      <td>CS 1331</td>\n",
       "      <td>CS 1301</td>\n",
       "      <td>3</td>\n",
       "      <td>1</td>\n",
       "    </tr>\n",
       "    <tr>\n",
       "      <th>16</th>\n",
       "      <td>CS 1332</td>\n",
       "      <td>CS 1331</td>\n",
       "      <td>3</td>\n",
       "      <td>2</td>\n",
       "    </tr>\n",
       "    <tr>\n",
       "      <th>17</th>\n",
       "      <td>MATH 2550</td>\n",
       "      <td>MATH 1552</td>\n",
       "      <td>2</td>\n",
       "      <td>2</td>\n",
       "    </tr>\n",
       "    <tr>\n",
       "      <th>18</th>\n",
       "      <td>CS 2340</td>\n",
       "      <td>CS 1331</td>\n",
       "      <td>3</td>\n",
       "      <td>2</td>\n",
       "    </tr>\n",
       "    <tr>\n",
       "      <th>19</th>\n",
       "      <td>Ethics</td>\n",
       "      <td>NaN</td>\n",
       "      <td>3</td>\n",
       "      <td>4</td>\n",
       "    </tr>\n",
       "    <tr>\n",
       "      <th>20</th>\n",
       "      <td>MATH 3012</td>\n",
       "      <td>MATH 1554</td>\n",
       "      <td>3</td>\n",
       "      <td>3</td>\n",
       "    </tr>\n",
       "    <tr>\n",
       "      <th>21</th>\n",
       "      <td>Statistics</td>\n",
       "      <td>MATH 1551</td>\n",
       "      <td>3</td>\n",
       "      <td>3</td>\n",
       "    </tr>\n",
       "    <tr>\n",
       "      <th>22</th>\n",
       "      <td>Free Elective</td>\n",
       "      <td>NaN</td>\n",
       "      <td>3</td>\n",
       "      <td>4</td>\n",
       "    </tr>\n",
       "  </tbody>\n",
       "</table>\n",
       "</div>"
      ],
      "text/plain": [
       "       course name explicit pre-requisites  credit hours  recommended year\n",
       "0         Wellness                     NaN             2                 1\n",
       "1        ENGL 1101                     NaN             3                 1\n",
       "2        ENGL 1102               ENGL 1101             3                 1\n",
       "3        MATH 1552                     NaN             4                 1\n",
       "4          CS 1301                     NaN             3                 1\n",
       "5       Humanities                     NaN             3                 2\n",
       "6        PHYS 2211                     NaN             4                 1\n",
       "7      Lab Science                     NaN             4                 2\n",
       "8        MATH 1551                     NaN             2                 1\n",
       "9        MATH 1554               MATH 1552             4                 2\n",
       "10         History                     NaN             3                 1\n",
       "11  Social Science                     NaN             3                 1\n",
       "12       PSYC 1101                     NaN             3                 2\n",
       "13         CS 1100                     NaN             1                 1\n",
       "14         CS 2050                     NaN             3                 2\n",
       "15         CS 1331                 CS 1301             3                 1\n",
       "16         CS 1332                 CS 1331             3                 2\n",
       "17       MATH 2550               MATH 1552             2                 2\n",
       "18         CS 2340                 CS 1331             3                 2\n",
       "19          Ethics                     NaN             3                 4\n",
       "20       MATH 3012               MATH 1554             3                 3\n",
       "21      Statistics               MATH 1551             3                 3\n",
       "22   Free Elective                     NaN             3                 4"
      ]
     },
     "execution_count": 12,
     "metadata": {},
     "output_type": "execute_result"
    }
   ],
   "source": [
    "df"
   ]
  },
  {
   "cell_type": "code",
   "execution_count": 13,
   "metadata": {},
   "outputs": [],
   "source": [
    "verbose = False # DEBUG\n",
    "really_verbose = False # DEBUG\n",
    "\n",
    "def treeshake(curriculum):\n",
    "    curr = curriculum.copy()\n",
    "    \n",
    "    # iterate over each course in curriculum\n",
    "    for course, pre_reqs in curriculum.items():\n",
    "        if really_verbose: print('new case:', course) # DEBUG\n",
    "        \n",
    "        # introductory course\n",
    "        if not pre_reqs: continue\n",
    "\n",
    "        # set of implicit prerequisites\n",
    "        seen = set()\n",
    "\n",
    "        # fetch implicit prerequisite (depth 1)\n",
    "        for (idx, explicit) in enumerate(pre_reqs):\n",
    "            # handle co-req \n",
    "            exp = explicit[:-1] if explicit[-1] == '*' else explicit\n",
    "\n",
    "            # introductory explicit\n",
    "            if not curr[exp]: continue \n",
    "            # important to keep this line. removing this breaks the whole thing\n",
    "\n",
    "            # \n",
    "            for (jdx, implicit) in enumerate(curr[exp]):\n",
    "                # if idx == jdx: continue # unsure if necessary / helpful. TEST BOTH WAYS.\n",
    "                # if candidate not in seen:  # Note: doesn't seem necessary because set is unique anyway.\n",
    "                seen.add(implicit)\n",
    "                    # curriculum[course].pop(idx)\n",
    "        \n",
    "        if really_verbose and seen: print('implicit:', seen)\n",
    "        # if an implicit prerequisite is made explicit (redundancy), remove the explicit.\n",
    "        for (idx, target) in enumerate(pre_reqs):\n",
    "            if target in seen: \n",
    "                curr[course].pop(idx)\n",
    "                if verbose: print('DELETED:', target, 'from', course)\n",
    "\n",
    "    return curr"
   ]
  },
  {
   "cell_type": "code",
   "execution_count": 14,
   "metadata": {},
   "outputs": [],
   "source": [
    "simple_curr = treeshake(curriculum)"
   ]
  },
  {
   "cell_type": "markdown",
   "metadata": {},
   "source": [
    "# **1. Data Representation & Graph Structure**"
   ]
  },
  {
   "cell_type": "code",
   "execution_count": 15,
   "metadata": {},
   "outputs": [],
   "source": [
    "def infer_year(name):\n",
    "    searched = re.search(\"\\ [0-9]\", name)\n",
    "    if searched: return int(searched.group()[1]) # the second char of search result"
   ]
  },
  {
   "cell_type": "code",
   "execution_count": 16,
   "metadata": {},
   "outputs": [],
   "source": [
    "def calc_immediacy(name): # recursive AND divergent. gonna be a memory hog.\n",
    "    # if completed, return 0 (here because of optimization)\n",
    "    if curr[name]['done']: return 0 # colorscheme is 1-indexed. a hack. but hard otherwise because of string casting. \n",
    "\n",
    "    # if no pre-req, return 0\n",
    "    prereqs = curr[name]['prqs']\n",
    "    if not prereqs: return 0 # see note above # delete both of these note of this line returns 0\n",
    "\n",
    "    a = [] # dumb name?\n",
    "    for prereq in prereqs: \n",
    "        # does co-req mess up immediacy calculation? or cause infinite loops?\n",
    "        if prereq[-1]=='*': a.append(calc_immediacy(prereq[:-1]) + 1) \n",
    "        else: a.append(calc_immediacy(prereq) + 1) \n",
    "\n",
    "    return max(a)"
   ]
  },
  {
   "cell_type": "markdown",
   "metadata": {},
   "source": [
    "Possible optimization: initialize immediacy to None. Note that we iteratively compute immediacies. If all explicit pre-reqs confronted by a higher-up class has already been determined (i.e., not None but rather 0/1/2/3...), then go ahead and take the max rather than recursing all the way through zero depth. This way, compute time increases linearly not quadratically (though there still are inefficients because we're using conditionals)."
   ]
  },
  {
   "cell_type": "code",
   "execution_count": 17,
   "metadata": {},
   "outputs": [],
   "source": [
    "curr = {}\n",
    "\n",
    "for course, item in simple_curr.items():\n",
    "    curr[course] = {}\n",
    "    curr[course]['prqs'] = item\n",
    "    curr[course]['year'] = infer_year(course)\n",
    "    curr[course]['done'] = False\n",
    "\n",
    "for course, item in simple_curr.items():\n",
    "    curr[course]['immediacy'] = calc_immediacy(course)"
   ]
  },
  {
   "cell_type": "code",
   "execution_count": 18,
   "metadata": {},
   "outputs": [
    {
     "data": {
      "text/plain": [
       "{'Wellness': {'prqs': [], 'year': None, 'done': False, 'immediacy': 0},\n",
       " 'ENGL 1101': {'prqs': [], 'year': 1, 'done': False, 'immediacy': 0},\n",
       " 'ENGL 1102': {'prqs': ['ENGL 1101'],\n",
       "  'year': 1,\n",
       "  'done': False,\n",
       "  'immediacy': 1},\n",
       " 'MATH 1552': {'prqs': [], 'year': 1, 'done': False, 'immediacy': 0},\n",
       " 'CS 1301': {'prqs': [], 'year': 1, 'done': False, 'immediacy': 0},\n",
       " 'Humanities': {'prqs': [], 'year': None, 'done': False, 'immediacy': 0},\n",
       " 'PHYS 2211': {'prqs': [], 'year': 2, 'done': False, 'immediacy': 0},\n",
       " 'Lab Science': {'prqs': [], 'year': None, 'done': False, 'immediacy': 0},\n",
       " 'MATH 1551': {'prqs': [], 'year': 1, 'done': False, 'immediacy': 0},\n",
       " 'MATH 1554': {'prqs': ['MATH 1552'],\n",
       "  'year': 1,\n",
       "  'done': False,\n",
       "  'immediacy': 1},\n",
       " 'History': {'prqs': [], 'year': None, 'done': False, 'immediacy': 0},\n",
       " 'Social Science': {'prqs': [], 'year': None, 'done': False, 'immediacy': 0},\n",
       " 'PSYC 1101': {'prqs': [], 'year': 1, 'done': False, 'immediacy': 0},\n",
       " 'CS 1100': {'prqs': [], 'year': 1, 'done': False, 'immediacy': 0},\n",
       " 'CS 2050': {'prqs': [], 'year': 2, 'done': False, 'immediacy': 0},\n",
       " 'CS 1331': {'prqs': ['CS 1301'], 'year': 1, 'done': False, 'immediacy': 1},\n",
       " 'CS 1332': {'prqs': ['CS 1331'], 'year': 1, 'done': False, 'immediacy': 2},\n",
       " 'MATH 2550': {'prqs': ['MATH 1552'],\n",
       "  'year': 2,\n",
       "  'done': False,\n",
       "  'immediacy': 1},\n",
       " 'CS 2340': {'prqs': ['CS 1331'], 'year': 2, 'done': False, 'immediacy': 2},\n",
       " 'Ethics': {'prqs': [], 'year': None, 'done': False, 'immediacy': 0},\n",
       " 'MATH 3012': {'prqs': ['MATH 1554'],\n",
       "  'year': 3,\n",
       "  'done': False,\n",
       "  'immediacy': 2},\n",
       " 'Statistics': {'prqs': ['MATH 1551'],\n",
       "  'year': None,\n",
       "  'done': False,\n",
       "  'immediacy': 1},\n",
       " 'Free Elective': {'prqs': [], 'year': None, 'done': False, 'immediacy': 0}}"
      ]
     },
     "execution_count": 18,
     "metadata": {},
     "output_type": "execute_result"
    }
   ],
   "source": [
    "curr"
   ]
  },
  {
   "cell_type": "markdown",
   "metadata": {},
   "source": [
    "# **2. Aesthetics**"
   ]
  },
  {
   "cell_type": "markdown",
   "metadata": {},
   "source": [
    "Design References:\n",
    "- [Black/white, modern, great use of thickness and scale](https://graphviz.org/Gallery/directed/psg.svg)\n",
    "\n"
   ]
  },
  {
   "cell_type": "markdown",
   "metadata": {},
   "source": [
    "Thinking about UI\n",
    "- Mouseover → highlight relevant incoming, outgoing pre-reqs"
   ]
  },
  {
   "cell_type": "markdown",
   "metadata": {},
   "source": [
    "## **2.1. Colors**"
   ]
  },
  {
   "cell_type": "markdown",
   "metadata": {},
   "source": [
    "**Resources**\n",
    "- [Color Converter](https://convertingcolors.com/rgb-color-92_87_120.html?search=RGB(92,%2087,%20120))\n",
    "\n",
    "**OG Graphviz Documentation**\n",
    "- [Background Color](https://graphviz.org/docs/attrs/bgcolor/)\n",
    "- [Color](https://graphviz.org/docs/attr-types/color/)\n",
    "- [Border/Fill Color](https://stackoverflow.com/questions/9106079/graphviz-how-to-change-border-color)\n",
    "\n",
    "**Python-specific Graphviz Documentation**\n",
    "- [Read the Docs](https://graphviz.readthedocs.io/en/stable/index.html)"
   ]
  },
  {
   "cell_type": "markdown",
   "metadata": {},
   "source": [
    "**To-Do**\n",
    "- Arrow thickness, brightness optimization"
   ]
  },
  {
   "cell_type": "code",
   "execution_count": 19,
   "metadata": {},
   "outputs": [],
   "source": [
    "# color utils\n",
    "\n",
    "def rgb_to_hex(rgb):\n",
    "    return '%02x%02x%02x' % rgb\n",
    "\n",
    "# rgb_to_hex((255, 255, 195)) # test\n",
    "\n",
    "def hex_to_rgb(value):\n",
    "    value = value.lstrip('#')\n",
    "    return tuple(int(value[i:i+2], 16) for i in range(0, 6, 2))\n",
    "\n",
    "# hex_to_rgb(\"FF65BA\") # test\n",
    "\n",
    "def glow(base, highlight):\n",
    "    # need to mix color so that highlight is weaker — something like 0.2\n",
    "\n",
    "    hw = 0.35  # highlight weight\n",
    "    bw = 1-hw # base weight\n",
    "\n",
    "    r,g,b = hex_to_rgb(base)\n",
    "    u,v,w = hex_to_rgb(highlight)\n",
    "    r,g,b = (int(bw*r+hw*u), int(bw*g+hw*v), int(bw*b+hw*w))\n",
    "\n",
    "    hl = '#' + rgb_to_hex((r,g,b)).upper()\n",
    "\n",
    "    return base+';'+'0.9:'+hl \n",
    "    # the number doesn't matter when doing radial. i think. at least when only with two numbers -> only two number is possible.\n",
    "\n",
    "# test line?"
   ]
  },
  {
   "cell_type": "code",
   "execution_count": 20,
   "metadata": {},
   "outputs": [],
   "source": [
    "'''COLOR BANK'''\n",
    "# not perfect. let's keep improving.\n",
    "\n",
    "# backgrounds\n",
    "base = '#2A2556'\n",
    "base_dark = '#101C4D'\n",
    "nodebg = '#333163'\n",
    "\n",
    "# bright things\n",
    "font = '#F5EEE8'\n",
    "arrow = '#AFABB4' # '#9B97BA' # '#827EA0'\n",
    "# weakwhite = #827EA0 # maybe.\n",
    "\n",
    "# colorful things\n",
    "green = '#ADB766'\n",
    "# yellow = \n",
    "orange = '#AB706E'\n",
    "lightblue = '#89AFA3'\n",
    "blue = '#497797'"
   ]
  },
  {
   "cell_type": "code",
   "execution_count": 21,
   "metadata": {},
   "outputs": [],
   "source": [
    "import graphviz"
   ]
  },
  {
   "cell_type": "code",
   "execution_count": 22,
   "metadata": {},
   "outputs": [],
   "source": [
    "def get_graph():\n",
    "    # graph\n",
    "    c = graphviz.Digraph('Curriculum') # format='jpg' # filename='process.gv'\n",
    "    c.attr(rankdir='LR') # make this horizontal. (important)\n",
    "    c.attr(style='radial')\n",
    "    c.attr(bgcolor=base+';0.5:'+base_dark) # DEBUG\n",
    "    c.attr(fontname='Helvetica') # DOESN'T WORK. Why?\n",
    "\n",
    "    # node defaults\n",
    "    c.node_attr['shape'] = 'box'\n",
    "    c.node_attr['style'] = 'rounded, filled, radial'\n",
    "    # border\n",
    "    c.node_attr['color'] = orange\n",
    "    c.node_attr['penwidth'] = '2.5'\n",
    "    c.node_attr['colorscheme']='ylgnbu9' # colorbrewer scheme\n",
    "    # fill\n",
    "    c.node_attr['fillcolor'] = glow(base_dark, orange) # '#333163' # '#292759' # DEBUG\n",
    "    # font\n",
    "    c.node_attr['fontcolor'] = font\n",
    "    c.node_attr['fontsize'] = '12'\n",
    "\n",
    "    # edge defaults\n",
    "    c.edge_attr['color'] = arrow # arrow # arrow color\n",
    "    c.edge_attr['arrowsize'] = '0.75'\n",
    "\n",
    "    return c"
   ]
  },
  {
   "cell_type": "code",
   "execution_count": 23,
   "metadata": {},
   "outputs": [],
   "source": [
    "def draw_scheme(curriculum):\n",
    "    # TODO: add outlines to edge\n",
    "    # gonna be a good idea to implement colorscheme darkmode (colored borders only)!\n",
    "    \n",
    "    # GRAPH\n",
    "    c = graphviz.Digraph('Curriculum') # filename='process.gv'\n",
    "    c.attr(rankdir='LR') # horizontal (important)\n",
    "\n",
    "    # node defaults\n",
    "    c.node_attr['shape'] = 'box'\n",
    "    c.node_attr['style'] = 'rounded, filled, radial'\n",
    "    c.node_attr['colorscheme']= 'spectral11' # 'ylgnbu9' # colorbrewer scheme\n",
    "    offset = 3\n",
    "    # border\n",
    "    c.node_attr['color'] = 'black'\n",
    "    c.node_attr['penwidth'] = '1.5'\n",
    "    # font\n",
    "    c.node_attr['fontsize'] = '12'\n",
    "\n",
    "\n",
    "    # edge defaults\n",
    "    # c.edge_attr['color'] # UNIQUE\n",
    "    c.edge_attr['arrowsize'] = '0.65'\n",
    "    c.edge_attr['colorscheme']= 'spectral11' # 'ylgnbu9' # colorbrewer scheme\n",
    "    c.edge_attr['penwidth'] = '3'\n",
    "    # irrelevant parameters were pruned; fetch original @ draw_normal\n",
    "\n",
    "    # DRAWING\n",
    "\n",
    "    # iterate upon each course\n",
    "    for course, content in curriculum.items():\n",
    "        prqs, year, done, imme = list(content.values()) # i love dicts\n",
    "        # print(course, prqs, year, done, imme) # DEBUG\n",
    "\n",
    "        # done (i.e., not drawn)\n",
    "        if done: continue\n",
    "\n",
    "        # make the node!\n",
    "        c.node(course, fillcolor=str(imme+offset))\n",
    "\n",
    "        # introductory (i.e., no pre-req)\n",
    "        if not prqs: continue\n",
    "\n",
    "        # has pre-reqs\n",
    "        else:\n",
    "            for prq in prqs:\n",
    "        \n",
    "                # co-req\n",
    "                if prq[-1] == '*': \n",
    "                    # Note: I'd love to make an alias of prq here with * removed, but I'm worried about mutation.\n",
    "                    # c.node(prq[:-1], color=str(imme+1))\n",
    "                    if curriculum[prq[:-1]]['done']: continue\n",
    "                    c.edge(prq[:-1], course, constraint='false', color=str(imme+offset), style='dashed')\n",
    "                \n",
    "                # pre-req\n",
    "                else: \n",
    "                    # c.node(prq, color=str(imme+1))\n",
    "                    if curriculum[prq]['done']: continue\n",
    "                    c.edge(prq, course, color=str(imme+offset), style='solid')\n",
    "\n",
    "    c.render(filename='dots/g4.gv')\n",
    "    \n",
    "    return c\n",
    "\n",
    "# draw_scheme(curr)"
   ]
  },
  {
   "cell_type": "code",
   "execution_count": 24,
   "metadata": {},
   "outputs": [],
   "source": [
    "def draw_normal(curriculum):\n",
    "    \n",
    "    c = get_graph()\n",
    "\n",
    "    # iterate upon each course\n",
    "    for course, content in curriculum.items():\n",
    "        prqs, year, done, imme = content['prqs'], content['year'], content['done'], content['immediacy'] # what a hack.\n",
    "        # print(course, prqs, year, done, imme) # DEBUG\n",
    "    \n",
    "        c.node(course, color=str(imme+1)) # fillcolor=glow(base_dark, green))\n",
    "\n",
    "\n",
    "        # introductory course\n",
    "        if not prqs: continue\n",
    "            # ensures that introductory courses exist\n",
    "        \n",
    "\n",
    "        # has pre-reqs\n",
    "        else:\n",
    "            for prq in prqs:\n",
    "        \n",
    "                # co-req\n",
    "                if prq[-1] == '*': \n",
    "                    # c.node(prq[:-1], color=str(imme+1))\n",
    "                    c.edge(prq[:-1], course, color=lightblue)\n",
    "                \n",
    "                # pre-req\n",
    "                else: \n",
    "                    # c.node(prq, color=str(imme+1))\n",
    "                    c.edge(prq, course)\n",
    "    return c"
   ]
  },
  {
   "cell_type": "markdown",
   "metadata": {},
   "source": [
    "# **3. Interactivity**"
   ]
  },
  {
   "cell_type": "code",
   "execution_count": 25,
   "metadata": {},
   "outputs": [],
   "source": [
    "from ipywidgets import widgets\n",
    "from IPython.display import display"
   ]
  },
  {
   "cell_type": "markdown",
   "metadata": {},
   "source": [
    "> Keep this as list or make it dict? 🤔 Considering case of curriculum deviation (where user's taken non-degree-counting courses) and scalability (dict faster), **dict** it is."
   ]
  },
  {
   "cell_type": "code",
   "execution_count": 26,
   "metadata": {},
   "outputs": [],
   "source": [
    "# Nx4 matrix(?) of checkboxes representing completed courses\n",
    "completion = {} \n",
    "for course in curr.keys(): completion[course] = widgets.Checkbox(description=course)\n",
    "width = 4; height = len(completion)//width+1 # boundary case ain't perfect but still\n",
    "columns = []\n",
    "for i in range(width): columns.append(widgets.VBox(list(completion.values())[height*i:height*(i+1)])) # saturate the columns\n",
    "hbox = widgets.HBox([*columns]) # dot operator unpacks an iterable\n",
    "# button: apply checkbox state to curr\n",
    "button = widgets.Button(description='Apply Changes', button_style='info', icon='check'); \n",
    "\n",
    "def apply_completion(button): # mutable. trivial.\n",
    "    for course, content in curr.items():\n",
    "        content['done'] = completion[course].value\n",
    "\n",
    "button.on_click(apply_completion)"
   ]
  },
  {
   "cell_type": "code",
   "execution_count": 27,
   "metadata": {},
   "outputs": [],
   "source": [
    "# display(widgets.VBox([widgets.Label('Check your completed courses.'), hbox, button]))"
   ]
  },
  {
   "cell_type": "markdown",
   "metadata": {},
   "source": [
    "[Fuck Jupyter...](https://gist.github.com/pbugnion/5bb7878ff212a0116f0f1fbc9f431a5c) Switching to Colab a good idea? Nevermind, Jupyter good... **Still switch to Colab?**"
   ]
  },
  {
   "cell_type": "markdown",
   "metadata": {},
   "source": [
    "**`complete_course()`**\n",
    "\n",
    "Let's make it non-mutable. Nah let's make it mutable.\n",
    "\n",
    "Pseudocode:\n",
    "- if a completed course is within curriculum, find and delete all occurrence of it as a pre-req.\n",
    "- if it has a pre-req (not a co-req), delete all of its pre-reqs too."
   ]
  },
  {
   "cell_type": "markdown",
   "metadata": {},
   "source": [
    "# **A. Output Screen**"
   ]
  },
  {
   "cell_type": "code",
   "execution_count": 28,
   "metadata": {},
   "outputs": [],
   "source": [
    "# curr"
   ]
  },
  {
   "cell_type": "code",
   "execution_count": 29,
   "metadata": {},
   "outputs": [
    {
     "data": {
      "application/vnd.jupyter.widget-view+json": {
       "model_id": "a8e50cd7474547f094d92ee374e48121",
       "version_major": 2,
       "version_minor": 0
      },
      "text/plain": [
       "VBox(children=(Label(value='Check your completed courses.'), HBox(children=(VBox(children=(Checkbox(value=Fals…"
      ]
     },
     "metadata": {},
     "output_type": "display_data"
    }
   ],
   "source": [
    "display(widgets.VBox([widgets.Label('Check your completed courses.'), hbox, button]))"
   ]
  },
  {
   "cell_type": "code",
   "execution_count": 30,
   "metadata": {},
   "outputs": [],
   "source": [
    "gv = draw_scheme(curr)"
   ]
  }
 ],
 "metadata": {
  "interpreter": {
   "hash": "b0fa6594d8f4cbf19f97940f81e996739fb7646882a419484c72d19e05852a7e"
  },
  "kernelspec": {
   "display_name": "Python 3.9.10 64-bit",
   "language": "python",
   "name": "python3"
  },
  "language_info": {
   "codemirror_mode": {
    "name": "ipython",
    "version": 3
   },
   "file_extension": ".py",
   "mimetype": "text/x-python",
   "name": "python",
   "nbconvert_exporter": "python",
   "pygments_lexer": "ipython3",
   "version": "3.9.10"
  },
  "orig_nbformat": 4
 },
 "nbformat": 4,
 "nbformat_minor": 2
}
