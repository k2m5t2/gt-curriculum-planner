{
 "cells": [
  {
   "cell_type": "markdown",
   "metadata": {},
   "source": [
    "# **ISYE**"
   ]
  },
  {
   "cell_type": "markdown",
   "metadata": {},
   "source": [
    "## Analytics and Data Science Concentration"
   ]
  },
  {
   "cell_type": "code",
   "execution_count": null,
   "metadata": {},
   "outputs": [],
   "source": [
    "ads = ['APPH 1040', 'APPH 1050', 'ENGL 1101', 'ENGL 1102', 'MATH 1551 or MATH 1501', 'MATH 1553 or MATH 1554', 'CS 1301', 'Humanities', 'Humanities', 'PHYS 2211', 'PHYS 2212', 'MATH 1552 or MATH 1502', 'HIST 2111', 'HIST 2112', 'INTA 1200', 'POL 1101', 'PUBP 3000', 'ECON 2100', 'ECON 2101', 'ECON 2105', 'ECON 2106', 'PSYC 1101', 'Social Science', 'CS 2316', 'CS 4400', 'Lab Science', 'Lab Science', 'MATH 2551 or MATH 2550 or MATH 2401', 'ACCT 2101', 'MGT 3000', 'MATH 2603', 'ISYE 2027', 'ISYE 3030', 'ISYE 3025', 'ISYE 3044', 'ISYE 3133', 'ISYE 3232', 'ISYE 4031', 'ISYE 4800', 'ISYE 4106', 'ISYE 4133', 'ISYE 4045 or ISYE 4803 Adv Simulation', 'ISYE 4232', 'ISYE  4134 or ISYE 4803 Constraint Programming', 'ISYE 4034 or ISYE 4803 Business Analytics', 'CX 4240', 'ISYE 4803 Intro to Machine Learning or CS 4641', ]"
   ]
  }
 ],
 "metadata": {
  "language_info": {
   "name": "python"
  },
  "orig_nbformat": 4
 },
 "nbformat": 4,
 "nbformat_minor": 2
}
